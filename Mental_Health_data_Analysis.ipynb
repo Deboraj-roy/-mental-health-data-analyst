{
  "nbformat": 4,
  "nbformat_minor": 0,
  "metadata": {
    "colab": {
      "provenance": [],
      "authorship_tag": "ABX9TyPIA9owVyKPN5pz2mBTkL3S",
      "include_colab_link": true
    },
    "kernelspec": {
      "name": "python3",
      "display_name": "Python 3"
    },
    "language_info": {
      "name": "python"
    }
  },
  "cells": [
    {
      "cell_type": "markdown",
      "metadata": {
        "id": "view-in-github",
        "colab_type": "text"
      },
      "source": [
        "<a href=\"https://colab.research.google.com/github/Deboraj-roy/-mental-health-data-analyst/blob/main/Mental_Health_data_Analysis.ipynb\" target=\"_parent\"><img src=\"https://colab.research.google.com/assets/colab-badge.svg\" alt=\"Open In Colab\"/></a>"
      ]
    },
    {
      "cell_type": "markdown",
      "source": [
        "# Continuous variable to categorical variable in python"
      ],
      "metadata": {
        "id": "G-Vkan5JnvEr"
      }
    },
    {
      "cell_type": "code",
      "source": [
        "import pandas as pd\n"
      ],
      "metadata": {
        "id": "Nakcx4DYnDQR"
      },
      "execution_count": null,
      "outputs": []
    },
    {
      "cell_type": "code",
      "source": [
        "pip install scipy\n"
      ],
      "metadata": {
        "id": "PPY0QNRcobDx"
      },
      "execution_count": null,
      "outputs": []
    },
    {
      "cell_type": "code",
      "source": [
        "dataset = pd.read_csv(\"/content/drive/MyDrive/Colab Notebooks/Student Mental health (updated).csv\")\n"
      ],
      "metadata": {
        "id": "Rzrkh97rocf2"
      },
      "execution_count": null,
      "outputs": []
    },
    {
      "cell_type": "code",
      "source": [
        "dataset.head()"
      ],
      "metadata": {
        "id": "42eA_sYmoe40"
      },
      "execution_count": null,
      "outputs": []
    },
    {
      "cell_type": "code",
      "source": [
        "dataset.tail()\n"
      ],
      "metadata": {
        "id": "BmYnUtbVog3A"
      },
      "execution_count": null,
      "outputs": []
    },
    {
      "cell_type": "code",
      "source": [
        "dataset.Age.head(25)\n"
      ],
      "metadata": {
        "id": "C40ziPMzokB9"
      },
      "execution_count": null,
      "outputs": []
    },
    {
      "cell_type": "code",
      "source": [
        "pd.cut(dataset.Age, bins=[0, 17, 18, 65], labels=[\"Adolescents\",\"Adults\", \"Older adults\"]).head(100)\n"
      ],
      "metadata": {
        "id": "3gEx0iFDomik"
      },
      "execution_count": null,
      "outputs": []
    },
    {
      "cell_type": "code",
      "source": [
        "pd.cut(dataset.Age, bins=[0, 17, 18, 65], labels=[\"Adolescents\",\"Adults\", \"Older adults\"])\n"
      ],
      "metadata": {
        "id": "oFEtEW9Gon0I"
      },
      "execution_count": null,
      "outputs": []
    },
    {
      "cell_type": "markdown",
      "source": [
        "# Chi square test relations using google colab\n",
        "\n",
        "\n",
        "Next Another\n",
        "https://colab.research.google.com/drive/15twjOR4q5hvoZxIEZaeiR33-SrS7fV_k?authuser=1#scrollTo=qXdbDUdIvvyV"
      ],
      "metadata": {
        "id": "F4ZDhULzoJ0y"
      }
    },
    {
      "cell_type": "code",
      "source": [],
      "metadata": {
        "id": "m7RrMz0YnSFO"
      },
      "execution_count": null,
      "outputs": []
    }
  ]
}