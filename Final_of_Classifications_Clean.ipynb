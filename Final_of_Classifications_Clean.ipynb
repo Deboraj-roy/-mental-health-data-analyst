{
  "nbformat": 4,
  "nbformat_minor": 0,
  "metadata": {
    "colab": {
      "provenance": [],
      "collapsed_sections": [
        "301c6075"
      ],
      "include_colab_link": true
    },
    "kernelspec": {
      "name": "python3",
      "display_name": "Python 3"
    },
    "language_info": {
      "name": "python"
    }
  },
  "cells": [
    {
      "cell_type": "markdown",
      "metadata": {
        "id": "view-in-github",
        "colab_type": "text"
      },
      "source": [
        "<a href=\"https://colab.research.google.com/github/Deboraj-roy/-mental-health-data-analyst/blob/main/Final_of_Classifications_Clean.ipynb\" target=\"_parent\"><img src=\"https://colab.research.google.com/assets/colab-badge.svg\" alt=\"Open In Colab\"/></a>"
      ]
    },
    {
      "cell_type": "code",
      "source": [
        "import pandas as pd\n",
        "from sklearn import svm\n",
        "from sklearn.model_selection import train_test_split\n",
        "from sklearn.metrics import accuracy_score\n",
        "from sklearn.preprocessing import LabelEncoder \n",
        "\n",
        "# Load the dataset\n",
        "df = pd.read_csv(\"/content/drive/MyDrive/Colab Notebooks/Weka/data/CGPA.csv\")\n",
        "\n",
        "# Encode categorical variables into numerical values\n",
        "le = LabelEncoder()\n",
        "for col in df.columns:\n",
        "    if df[col].dtype == \"object\":\n",
        "        df[col] = le.fit_transform(df[col])\n",
        "\n",
        "# Split the dataset into training and testing sets\n",
        "X = df.drop([\"CGPA Category\"], axis=1)\n",
        "y = df[\"CGPA Category\"]\n",
        "X_train, X_test, y_train, y_test = train_test_split(X, y, test_size=0.2, random_state=42)\n",
        "\n",
        "# Train the SVM model on the training data\n",
        "clf = svm.SVC(kernel='linear')\n",
        "clf.fit(X_train, y_train)\n",
        "\n",
        "# Make predictions on the test data\n",
        "y_pred = clf.predict(X_test)\n",
        "\n",
        "# Calculate the accuracy of the model\n",
        "accuracy = accuracy_score(y_test, y_pred)\n",
        "print(\"SVM CGPA Accuracy:\", accuracy)"
      ],
      "metadata": {
        "id": "F5lcOtUo3dzi",
        "colab": {
          "base_uri": "https://localhost:8080/"
        },
        "outputId": "3a866369-fb9e-41d6-f893-18f3937d5d0b"
      },
      "execution_count": 99,
      "outputs": [
        {
          "output_type": "stream",
          "name": "stdout",
          "text": [
            "SVM CGPA Accuracy: 0.2857142857142857\n"
          ]
        }
      ]
    },
    {
      "cell_type": "code",
      "source": [
        "from google.colab import drive\n",
        "drive.mount('/content/drive')"
      ],
      "metadata": {
        "colab": {
          "base_uri": "https://localhost:8080/"
        },
        "id": "gAaCosO901ik",
        "outputId": "0a6163f5-f6a5-4001-decb-1171f7d544be"
      },
      "execution_count": 100,
      "outputs": [
        {
          "output_type": "stream",
          "name": "stdout",
          "text": [
            "Drive already mounted at /content/drive; to attempt to forcibly remount, call drive.mount(\"/content/drive\", force_remount=True).\n"
          ]
        }
      ]
    },
    {
      "cell_type": "code",
      "source": [
        "import pandas as pd\n",
        "from sklearn import svm\n",
        "from sklearn.model_selection import train_test_split\n",
        "from sklearn.metrics import accuracy_score\n",
        "from sklearn.preprocessing import LabelEncoder \n",
        "\n",
        "# Load the dataset\n",
        "df = pd.read_csv(\"/content/drive/MyDrive/Colab Notebooks/Weka/data/Marital-status.csv\")\n",
        "\n",
        "# Encode categorical variables into numerical values\n",
        "le = LabelEncoder()\n",
        "for col in df.columns:\n",
        "    if df[col].dtype == \"object\":\n",
        "        df[col] = le.fit_transform(df[col])\n",
        "\n",
        "# Split the dataset into training and testing sets\n",
        "X = df.drop([\"Marital status\"], axis=1)\n",
        "y = df[\"Marital status\"]\n",
        "X_train, X_test, y_train, y_test = train_test_split(X, y, test_size=0.2, random_state=42)\n",
        "\n",
        "# Train the SVM model on the training data\n",
        "clf = svm.SVC(kernel='linear')\n",
        "clf.fit(X_train, y_train)\n",
        "\n",
        "# Make predictions on the test data\n",
        "y_pred = clf.predict(X_test)\n",
        "\n",
        "# Calculate the accuracy of the model\n",
        "accuracy = accuracy_score(y_test, y_pred)\n",
        "print(\"SVM Marital-status Accuracy:\", accuracy)"
      ],
      "metadata": {
        "colab": {
          "base_uri": "https://localhost:8080/"
        },
        "id": "dglorjRE8ZJR",
        "outputId": "11df22f8-1545-4496-85e2-6a16f4008804"
      },
      "execution_count": 101,
      "outputs": [
        {
          "output_type": "stream",
          "name": "stdout",
          "text": [
            "SVM Marital-status Accuracy: 0.9047619047619048\n"
          ]
        }
      ]
    },
    {
      "cell_type": "code",
      "source": [
        "import pandas as pd\n",
        "from sklearn import svm\n",
        "from sklearn.model_selection import train_test_split\n",
        "from sklearn.metrics import accuracy_score\n",
        "from sklearn.preprocessing import LabelEncoder \n",
        "\n",
        "# Load the dataset\n",
        "df = pd.read_csv(\"/content/drive/MyDrive/Colab Notebooks/Weka/data/Current-year-of-Study.csv\")\n",
        "\n",
        "# Encode categorical variables into numerical values\n",
        "le = LabelEncoder()\n",
        "for col in df.columns:\n",
        "    if df[col].dtype == \"object\":\n",
        "        df[col] = le.fit_transform(df[col])\n",
        "\n",
        "# Split the dataset into training and testing sets\n",
        "X = df.drop([\"Your current year of Study\"], axis=1)\n",
        "y = df[\"Your current year of Study\"]\n",
        "X_train, X_test, y_train, y_test = train_test_split(X, y, test_size=0.2, random_state=42)\n",
        "\n",
        "# Train the SVM model on the training data\n",
        "clf = svm.SVC(kernel='linear')\n",
        "clf.fit(X_train, y_train)\n",
        "\n",
        "# Make predictions on the test data\n",
        "y_pred = clf.predict(X_test)\n",
        "\n",
        "# Calculate the accuracy of the model\n",
        "accuracy = accuracy_score(y_test, y_pred)\n",
        "print(\"SVM Current-year-of-Study Accuracy:\", accuracy)"
      ],
      "metadata": {
        "colab": {
          "base_uri": "https://localhost:8080/"
        },
        "id": "RP-sP2wi8nBF",
        "outputId": "de8a98f8-0905-4147-e7a5-7b4bab979374"
      },
      "execution_count": 102,
      "outputs": [
        {
          "output_type": "stream",
          "name": "stdout",
          "text": [
            "SVM Current-year-of-Study Accuracy: 0.47619047619047616\n"
          ]
        }
      ]
    },
    {
      "cell_type": "code",
      "source": [],
      "metadata": {
        "id": "T1odnRW29jLf"
      },
      "execution_count": 102,
      "outputs": []
    },
    {
      "cell_type": "code",
      "source": [
        "import pandas as pd\n",
        "from sklearn import svm\n",
        "from sklearn.model_selection import train_test_split\n",
        "from sklearn.metrics import accuracy_score\n",
        "from sklearn.preprocessing import LabelEncoder \n",
        "\n",
        "# Load the dataset\n",
        "df = pd.read_csv(\"/content/drive/MyDrive/Colab Notebooks/Weka/data/depression.csv\")\n",
        "\n",
        "# Encode categorical variables into numerical values\n",
        "le = LabelEncoder()\n",
        "for col in df.columns:\n",
        "    if df[col].dtype == \"object\":\n",
        "        df[col] = le.fit_transform(df[col])\n",
        "\n",
        "# Split the dataset into training and testing sets\n",
        "X = df.drop([\"Do you have Depression?\"], axis=1)\n",
        "y = df[\"Do you have Depression?\"]\n",
        "X_train, X_test, y_train, y_test = train_test_split(X, y, test_size=0.2, random_state=42)\n",
        "\n",
        "# Train the SVM model on the training data\n",
        "clf = svm.SVC(kernel='linear')\n",
        "clf.fit(X_train, y_train)\n",
        "\n",
        "# Make predictions on the test data\n",
        "y_pred = clf.predict(X_test)\n",
        "\n",
        "# Calculate the accuracy of the model\n",
        "accuracy = accuracy_score(y_test, y_pred)\n",
        "print(\"SVM Depression Accuracy:\", accuracy)"
      ],
      "metadata": {
        "colab": {
          "base_uri": "https://localhost:8080/"
        },
        "outputId": "94a7fe84-cdd4-4476-f438-0312a4806728",
        "id": "hMnYZT9G9jlf"
      },
      "execution_count": 103,
      "outputs": [
        {
          "output_type": "stream",
          "name": "stdout",
          "text": [
            "SVM Depression Accuracy: 0.6666666666666666\n"
          ]
        }
      ]
    },
    {
      "cell_type": "code",
      "source": [
        "import pandas as pd\n",
        "from sklearn.model_selection import train_test_split\n",
        "from sklearn.naive_bayes import CategoricalNB\n",
        "from sklearn.preprocessing import LabelEncoder \n",
        "from sklearn.metrics import accuracy_score \n",
        "\n",
        "# Load the dataset\n",
        "df = pd.read_csv(\"/content/drive/MyDrive/Colab Notebooks/Weka/data/CGPA.csv\")\n",
        "\n",
        "# Encode categorical variables into numerical values\n",
        "le = LabelEncoder()\n",
        "for col in df.columns:\n",
        "    if df[col].dtype == \"object\":\n",
        "        df[col] = le.fit_transform(df[col])\n",
        "\n",
        "# Split the data into features (X) and target (y)\n",
        "X = df.drop(\"CGPA Category\", axis=1)\n",
        "y = df[\"CGPA Category\"]\n",
        "\n",
        "# Split the data into training and testing sets\n",
        "X_train, X_test, y_train, y_test = train_test_split(X, y, test_size=0.2, random_state=0)\n",
        "\n",
        "# Train a Naive Bayes model\n",
        "model = CategoricalNB()\n",
        "model.fit(X_train, y_train)\n",
        "\n",
        "# Predict on the test set\n",
        "y_pred = model.predict(X_test)\n",
        "\n",
        "# Evaluate the model's accuracy\n",
        "accuracy = accuracy_score(y_test, y_pred)\n",
        "print(\"Naive Bayes model CGPA Accuracy: \", accuracy)"
      ],
      "metadata": {
        "colab": {
          "base_uri": "https://localhost:8080/"
        },
        "id": "RuR5NaY9-4Yx",
        "outputId": "cad893ce-c38d-4c00-a72e-f3d13e0e762e"
      },
      "execution_count": 104,
      "outputs": [
        {
          "output_type": "stream",
          "name": "stdout",
          "text": [
            "Naive Bayes model CGPA Accuracy:  0.42857142857142855\n"
          ]
        }
      ]
    },
    {
      "cell_type": "code",
      "source": [
        "import pandas as pd\n",
        "from sklearn.model_selection import train_test_split\n",
        "from sklearn.tree import DecisionTreeClassifier\n",
        "from sklearn.metrics import accuracy_score  \n",
        "from sklearn.preprocessing import LabelEncoder \n",
        "\n",
        "# Load your categorical dataset\n",
        "df = pd.read_csv('/content/drive/MyDrive/Colab Notebooks/Weka/data/CGPA.csv')\n",
        "\n",
        "# Encode categorical variables into numerical values\n",
        "le = LabelEncoder()\n",
        "for col in df.columns:\n",
        "    if df[col].dtype == \"object\":\n",
        "        df[col] = le.fit_transform(df[col])\n",
        "\n",
        "\n",
        "# Split the data into features (X) and target (y)\n",
        "X = df.drop(\"CGPA Category\", axis=1)\n",
        "y = df[\"CGPA Category\"]\n",
        "\n",
        "\n",
        "# Split the data into training and testing sets\n",
        "# train_data, test_data, train_labels, test_labels = train_test_split(df.drop('CGPA Category', axis=1), df['CGPA Category'], test_size=0.2)\n",
        "train_data, test_data, train_labels, test_labels = train_test_split(X, y, test_size=0.2)\n",
        "\n",
        "# Train the J48 classifier on the training data\n",
        "j48 = DecisionTreeClassifier(criterion='entropy')\n",
        "j48.fit(train_data, train_labels)\n",
        "\n",
        "# Make predictions on the test data\n",
        "predictions = j48.predict(test_data)\n",
        "\n",
        "# Evaluate the accuracy of the model\n",
        "accuracy = accuracy_score(test_labels, predictions)\n",
        "print(\"J48 CGPA Accuracy:\", accuracy)"
      ],
      "metadata": {
        "colab": {
          "base_uri": "https://localhost:8080/"
        },
        "id": "RTl8TJDp_nw1",
        "outputId": "70375f58-bee5-435e-b262-3d62f03b12b5"
      },
      "execution_count": 105,
      "outputs": [
        {
          "output_type": "stream",
          "name": "stdout",
          "text": [
            "J48 CGPA Accuracy: 0.47619047619047616\n"
          ]
        }
      ]
    },
    {
      "cell_type": "code",
      "source": [
        "import numpy as np\n",
        "import pandas as pd\n",
        "from sklearn.model_selection import train_test_split\n",
        "from sklearn.preprocessing import LabelEncoder\n",
        "from keras.utils import to_categorical\n",
        "from keras.models import Sequential\n",
        "from keras.layers import Dense\n",
        "\n",
        "# Load the dataset\n",
        "df = pd.read_csv('/content/drive/MyDrive/Colab Notebooks/Weka/data/CGPA.csv')\n",
        "\n",
        "\n",
        "# Encode categorical variables into numerical values\n",
        "le = LabelEncoder()\n",
        "for col in df.columns:\n",
        "    if df[col].dtype == \"object\":\n",
        "        df[col] = le.fit_transform(df[col])\n",
        "\n",
        "\n",
        "# Split the dataset into features (X) and labels (y)\n",
        "X = df.drop('CGPA Category', axis=1)\n",
        "y = df['CGPA Category']\n",
        "\n",
        "# Encode the categorical labels as integers\n",
        "encoder = LabelEncoder()\n",
        "y_encoded = encoder.fit_transform(y)\n",
        "\n",
        "# Convert the integer-encoded labels to one-hot encodings\n",
        "y_one_hot = to_categorical(y_encoded)\n",
        "\n",
        "# Split the dataset into training and test sets\n",
        "X_train, X_test, y_train, y_test = train_test_split(X, y_one_hot, test_size=0.2, random_state=42)\n",
        "\n",
        "# Build the neural network model\n",
        "model = Sequential()\n",
        "model.add(Dense(32, input_dim=X.shape[1], activation='relu'))\n",
        "model.add(Dense(16, activation='relu'))\n",
        "model.add(Dense(y_one_hot.shape[1], activation='softmax'))\n",
        "\n",
        "# Compile the model\n",
        "model.compile(loss='categorical_crossentropy', optimizer='adam', metrics=['accuracy'])\n",
        "\n",
        "# Train the model\n",
        "model.fit(X_train, y_train, epochs=100, batch_size=32, verbose=0)\n",
        "\n",
        "# Evaluate the model on the test set\n",
        "test_loss, test_accuracy = model.evaluate(X_test, y_test, verbose=0)\n",
        "print('Artificial neural network CGPA Test accuracy:', test_accuracy)"
      ],
      "metadata": {
        "colab": {
          "base_uri": "https://localhost:8080/"
        },
        "id": "-_18tOTi_3Pk",
        "outputId": "4a035cb0-28a1-46a9-fc42-7536b68d6402"
      },
      "execution_count": 106,
      "outputs": [
        {
          "output_type": "stream",
          "name": "stdout",
          "text": [
            "Artificial neural network CGPA Test accuracy: 0.2857142984867096\n"
          ]
        }
      ]
    },
    {
      "cell_type": "code",
      "source": [
        "import numpy as np\n",
        "import pandas as pd\n",
        "from sklearn.model_selection import train_test_split\n",
        "from sklearn.preprocessing import LabelEncoder\n",
        "from keras.utils import to_categorical\n",
        "from keras.models import Sequential\n",
        "from keras.layers import Dense\n",
        "\n",
        "# Load the dataset\n",
        "df = pd.read_csv('/content/drive/MyDrive/Colab Notebooks/Weka/data/Marital-status.csv')\n",
        "\n",
        "\n",
        "# Encode categorical variables into numerical values\n",
        "le = LabelEncoder()\n",
        "for col in df.columns:\n",
        "    if df[col].dtype == \"object\":\n",
        "        df[col] = le.fit_transform(df[col])\n",
        "\n",
        "\n",
        "# Split the dataset into features (X) and labels (y)\n",
        "X = df.drop('Marital status', axis=1)\n",
        "y = df['Marital status']\n",
        "\n",
        "# Encode the categorical labels as integers\n",
        "encoder = LabelEncoder()\n",
        "y_encoded = encoder.fit_transform(y)\n",
        "\n",
        "# Convert the integer-encoded labels to one-hot encodings\n",
        "y_one_hot = to_categorical(y_encoded)\n",
        "\n",
        "# Split the dataset into training and test sets\n",
        "X_train, X_test, y_train, y_test = train_test_split(X, y_one_hot, test_size=0.2, random_state=42)\n",
        "\n",
        "# Build the neural network model\n",
        "model = Sequential()\n",
        "model.add(Dense(32, input_dim=X.shape[1], activation='relu'))\n",
        "model.add(Dense(16, activation='relu'))\n",
        "model.add(Dense(y_one_hot.shape[1], activation='softmax'))\n",
        "\n",
        "# Compile the model\n",
        "model.compile(loss='categorical_crossentropy', optimizer='adam', metrics=['accuracy'])\n",
        "\n",
        "# Train the model\n",
        "model.fit(X_train, y_train, epochs=100, batch_size=32, verbose=0)\n",
        "\n",
        "# Evaluate the model on the test set\n",
        "test_loss, test_accuracy = model.evaluate(X_test, y_test, verbose=0)\n",
        "print('Artificial neural network Marital status Test accuracy:', test_accuracy)"
      ],
      "metadata": {
        "colab": {
          "base_uri": "https://localhost:8080/"
        },
        "id": "nw98SEjuAxXy",
        "outputId": "53b57638-e236-4e16-8fe2-abd256ea5c26"
      },
      "execution_count": 107,
      "outputs": [
        {
          "output_type": "stream",
          "name": "stdout",
          "text": [
            "Artificial neural network Marital status Test accuracy: 0.9047619104385376\n"
          ]
        }
      ]
    },
    {
      "cell_type": "code",
      "source": [
        "import pandas as pd\n",
        "from sklearn.model_selection import train_test_split\n",
        "from sklearn.naive_bayes import CategoricalNB\n",
        "from sklearn.preprocessing import LabelEncoder \n",
        "from sklearn.metrics import accuracy_score \n",
        "\n",
        "# Load the dataset\n",
        "df = pd.read_csv(\"/content/drive/MyDrive/Colab Notebooks/Weka/data/Marital-status.csv\")\n",
        "\n",
        "# Encode categorical variables into numerical values\n",
        "le = LabelEncoder()\n",
        "for col in df.columns:\n",
        "    if df[col].dtype == \"object\":\n",
        "        df[col] = le.fit_transform(df[col])\n",
        "\n",
        "# Split the data into features (X) and target (y)\n",
        "X = df.drop(\"Marital status\", axis=1)\n",
        "y = df[\"Marital status\"]\n",
        "\n",
        "# Split the data into training and testing sets\n",
        "X_train, X_test, y_train, y_test = train_test_split(X, y, test_size=0.2, random_state=0)\n",
        "\n",
        "# Train a Naive Bayes model\n",
        "model = CategoricalNB()\n",
        "model.fit(X_train, y_train)\n",
        "\n",
        "# Predict on the test set\n",
        "y_pred = model.predict(X_test)\n",
        "\n",
        "# Evaluate the model's accuracy\n",
        "accuracy = accuracy_score(y_test, y_pred)\n",
        "print(\"Naive Bayes Marital status Accuracy: \", accuracy)\n"
      ],
      "metadata": {
        "colab": {
          "base_uri": "https://localhost:8080/"
        },
        "id": "srKH0_gOBIsc",
        "outputId": "e8484610-6756-46ed-ccf0-c9e53993ec78"
      },
      "execution_count": 108,
      "outputs": [
        {
          "output_type": "stream",
          "name": "stdout",
          "text": [
            "Naive Bayes Marital status Accuracy:  0.8571428571428571\n"
          ]
        }
      ]
    },
    {
      "cell_type": "code",
      "source": [
        "import pandas as pd\n",
        "from sklearn.model_selection import train_test_split\n",
        "from sklearn.tree import DecisionTreeClassifier\n",
        "from sklearn.metrics import accuracy_score  \n",
        "from sklearn.preprocessing import LabelEncoder \n",
        "\n",
        "# Load your categorical dataset\n",
        "df = pd.read_csv('/content/drive/MyDrive/Colab Notebooks/Weka/data/Marital-status.csv')\n",
        "\n",
        "# Encode categorical variables into numerical values\n",
        "le = LabelEncoder()\n",
        "for col in df.columns:\n",
        "    if df[col].dtype == \"object\":\n",
        "        df[col] = le.fit_transform(df[col])\n",
        "\n",
        "\n",
        "# Split the data into features (X) and target (y)\n",
        "X = df.drop(\"Marital status\", axis=1)\n",
        "y = df[\"Marital status\"]\n",
        "\n",
        "\n",
        "# Split the data into training and testing sets\n",
        "# train_data, test_data, train_labels, test_labels = train_test_split(df.drop('CGPA Category', axis=1), df['CGPA Category'], test_size=0.2)\n",
        "train_data, test_data, train_labels, test_labels = train_test_split(X, y, test_size=0.2)\n",
        "\n",
        "# Train the J48 classifier on the training data\n",
        "j48 = DecisionTreeClassifier(criterion='entropy')\n",
        "j48.fit(train_data, train_labels)\n",
        "\n",
        "# Make predictions on the test data\n",
        "predictions = j48.predict(test_data)\n",
        "\n",
        "# Evaluate the accuracy of the model\n",
        "accuracy = accuracy_score(test_labels, predictions)\n",
        "print(\"J48 Marital status Accuracy:\", accuracy)"
      ],
      "metadata": {
        "colab": {
          "base_uri": "https://localhost:8080/"
        },
        "id": "RL444IANBYG3",
        "outputId": "387ed2fc-7705-4770-d362-80634dba33fa"
      },
      "execution_count": 109,
      "outputs": [
        {
          "output_type": "stream",
          "name": "stdout",
          "text": [
            "J48 Marital status Accuracy: 1.0\n"
          ]
        }
      ]
    },
    {
      "cell_type": "code",
      "source": [
        "import pandas as pd\n",
        "from sklearn.model_selection import train_test_split\n",
        "from sklearn.naive_bayes import CategoricalNB\n",
        "from sklearn.preprocessing import LabelEncoder \n",
        "from sklearn.metrics import accuracy_score \n",
        "\n",
        "# Load the dataset\n",
        "df = pd.read_csv(\"/content/drive/MyDrive/Colab Notebooks/Weka/data/Current-year-of-Study.csv\")\n",
        "\n",
        "# Encode categorical variables into numerical values\n",
        "le = LabelEncoder()\n",
        "for col in df.columns:\n",
        "    if df[col].dtype == \"object\":\n",
        "        df[col] = le.fit_transform(df[col])\n",
        "\n",
        "# Split the data into features (X) and target (y)\n",
        "X = df.drop(\"Your current year of Study\", axis=1)\n",
        "y = df[\"Your current year of Study\"]\n",
        "\n",
        "# Split the data into training and testing sets\n",
        "X_train, X_test, y_train, y_test = train_test_split(X, y, test_size=0.2, random_state=0)\n",
        "\n",
        "# Train a Naive Bayes model\n",
        "model = CategoricalNB()\n",
        "model.fit(X_train, y_train)\n",
        "\n",
        "# Predict on the test set\n",
        "y_pred = model.predict(X_test)\n",
        "\n",
        "# Evaluate the model's accuracy\n",
        "accuracy = accuracy_score(y_test, y_pred)\n",
        "print(\"Naive Bayes Current-year-of-Study Accuracy: \", accuracy)\n"
      ],
      "metadata": {
        "colab": {
          "base_uri": "https://localhost:8080/"
        },
        "id": "0QQ4nVmDBmqb",
        "outputId": "4b7ff213-b98f-4151-bb37-de432ea1bcfb"
      },
      "execution_count": 110,
      "outputs": [
        {
          "output_type": "stream",
          "name": "stdout",
          "text": [
            "Naive Bayes Current-year-of-Study Accuracy:  0.6190476190476191\n"
          ]
        }
      ]
    },
    {
      "cell_type": "code",
      "source": [
        "import numpy as np\n",
        "import pandas as pd\n",
        "from sklearn.model_selection import train_test_split\n",
        "from sklearn.preprocessing import LabelEncoder\n",
        "from keras.utils import to_categorical\n",
        "from keras.models import Sequential\n",
        "from keras.layers import Dense\n",
        "\n",
        "# Load the dataset\n",
        "df = pd.read_csv('/content/drive/MyDrive/Colab Notebooks/Weka/data/Current-year-of-Study.csv')\n",
        "\n",
        "\n",
        "# Encode categorical variables into numerical values\n",
        "le = LabelEncoder()\n",
        "for col in df.columns:\n",
        "    if df[col].dtype == \"object\":\n",
        "        df[col] = le.fit_transform(df[col])\n",
        "\n",
        "\n",
        "# Split the dataset into features (X) and labels (y)\n",
        "X = df.drop('Your current year of Study', axis=1)\n",
        "y = df['Your current year of Study']\n",
        "\n",
        "# Encode the categorical labels as integers\n",
        "encoder = LabelEncoder()\n",
        "y_encoded = encoder.fit_transform(y)\n",
        "\n",
        "# Convert the integer-encoded labels to one-hot encodings\n",
        "y_one_hot = to_categorical(y_encoded)\n",
        "\n",
        "# Split the dataset into training and test sets\n",
        "X_train, X_test, y_train, y_test = train_test_split(X, y_one_hot, test_size=0.2, random_state=42)\n",
        "\n",
        "# Build the neural network model\n",
        "model = Sequential()\n",
        "model.add(Dense(32, input_dim=X.shape[1], activation='relu'))\n",
        "model.add(Dense(16, activation='relu'))\n",
        "model.add(Dense(y_one_hot.shape[1], activation='softmax'))\n",
        "\n",
        "# Compile the model\n",
        "model.compile(loss='categorical_crossentropy', optimizer='adam', metrics=['accuracy'])\n",
        "\n",
        "# Train the model\n",
        "model.fit(X_train, y_train, epochs=100, batch_size=32, verbose=0)\n",
        "\n",
        "# Evaluate the model on the test set\n",
        "test_loss, test_accuracy = model.evaluate(X_test, y_test, verbose=0)\n",
        "print('Artificial neural network Your current year of Study Test accuracy:', test_accuracy)"
      ],
      "metadata": {
        "colab": {
          "base_uri": "https://localhost:8080/"
        },
        "id": "AtKeXf9sCQCe",
        "outputId": "666580d5-e03c-4e0c-e900-6649670ec78f"
      },
      "execution_count": 111,
      "outputs": [
        {
          "output_type": "stream",
          "name": "stdout",
          "text": [
            "Artificial neural network Your current year of Study Test accuracy: 0.4761904776096344\n"
          ]
        }
      ]
    },
    {
      "cell_type": "code",
      "source": [
        "import pandas as pd\n",
        "from sklearn.model_selection import train_test_split\n",
        "from sklearn.tree import DecisionTreeClassifier\n",
        "from sklearn.metrics import accuracy_score  \n",
        "from sklearn.preprocessing import LabelEncoder \n",
        "\n",
        "# Load your categorical dataset\n",
        "df = pd.read_csv('/content/drive/MyDrive/Colab Notebooks/Weka/data/Current-year-of-Study.csv')\n",
        "\n",
        "# Encode categorical variables into numerical values\n",
        "le = LabelEncoder()\n",
        "for col in df.columns:\n",
        "    if df[col].dtype == \"object\":\n",
        "        df[col] = le.fit_transform(df[col])\n",
        "\n",
        "\n",
        "# Split the data into features (X) and target (y)\n",
        "X = df.drop(\"Your current year of Study\", axis=1)\n",
        "y = df[\"Your current year of Study\"]\n",
        "\n",
        "\n",
        "# Split the data into training and testing sets\n",
        "# train_data, test_data, train_labels, test_labels = train_test_split(df.drop('CGPA Category', axis=1), df['CGPA Category'], test_size=0.2)\n",
        "train_data, test_data, train_labels, test_labels = train_test_split(X, y, test_size=0.2)\n",
        "\n",
        "# Train the J48 classifier on the training data\n",
        "j48 = DecisionTreeClassifier(criterion='entropy')\n",
        "j48.fit(train_data, train_labels)\n",
        "\n",
        "# Make predictions on the test data\n",
        "predictions = j48.predict(test_data)\n",
        "\n",
        "# Evaluate the accuracy of the model\n",
        "accuracy = accuracy_score(test_labels, predictions)\n",
        "print(\"J48 Your current year of Study Accuracy:\", accuracy)"
      ],
      "metadata": {
        "colab": {
          "base_uri": "https://localhost:8080/"
        },
        "id": "w0DKoj0zCYwO",
        "outputId": "7571d9dd-d687-4c1a-9634-1161370d4bf2"
      },
      "execution_count": 112,
      "outputs": [
        {
          "output_type": "stream",
          "name": "stdout",
          "text": [
            "J48 Your current year of Study Accuracy: 0.38095238095238093\n"
          ]
        }
      ]
    },
    {
      "cell_type": "code",
      "source": [
        "import pandas as pd\n",
        "from sklearn.model_selection import train_test_split\n",
        "from sklearn.naive_bayes import CategoricalNB\n",
        "from sklearn.preprocessing import LabelEncoder \n",
        "from sklearn.metrics import accuracy_score \n",
        "\n",
        "# Load the dataset\n",
        "df = pd.read_csv(\"/content/drive/MyDrive/Colab Notebooks/Weka/data/depression.csv\")\n",
        "\n",
        "# Encode categorical variables into numerical values\n",
        "le = LabelEncoder()\n",
        "for col in df.columns:\n",
        "    if df[col].dtype == \"object\":\n",
        "        df[col] = le.fit_transform(df[col])\n",
        "\n",
        "# Split the data into features (X) and target (y)\n",
        "X = df.drop(\"Do you have Depression?\", axis=1)\n",
        "y = df[\"Do you have Depression?\"]\n",
        "\n",
        "# Split the data into training and testing sets\n",
        "X_train, X_test, y_train, y_test = train_test_split(X, y, test_size=0.2, random_state=0)\n",
        "\n",
        "# Train a Naive Bayes model\n",
        "model = CategoricalNB()\n",
        "model.fit(X_train, y_train)\n",
        "\n",
        "# Predict on the test set\n",
        "y_pred = model.predict(X_test)\n",
        "\n",
        "# Evaluate the model's accuracy\n",
        "accuracy = accuracy_score(y_test, y_pred)\n",
        "print(\"Naive Bayes model Depression Accuracy: \", accuracy)"
      ],
      "metadata": {
        "colab": {
          "base_uri": "https://localhost:8080/"
        },
        "id": "RdImFydYCnUb",
        "outputId": "c384ca89-f02e-4678-de0f-b7a1d90feac9"
      },
      "execution_count": 113,
      "outputs": [
        {
          "output_type": "stream",
          "name": "stdout",
          "text": [
            "Naive Bayes model Depression Accuracy:  0.9047619047619048\n"
          ]
        }
      ]
    },
    {
      "cell_type": "code",
      "source": [
        "import numpy as np\n",
        "import pandas as pd\n",
        "from sklearn.model_selection import train_test_split\n",
        "from sklearn.preprocessing import LabelEncoder\n",
        "from keras.utils import to_categorical\n",
        "from keras.models import Sequential\n",
        "from keras.layers import Dense\n",
        "\n",
        "# Load the dataset\n",
        "df = pd.read_csv('/content/drive/MyDrive/Colab Notebooks/Weka/data/depression.csv')\n",
        "\n",
        "\n",
        "# Encode categorical variables into numerical values\n",
        "le = LabelEncoder()\n",
        "for col in df.columns:\n",
        "    if df[col].dtype == \"object\":\n",
        "        df[col] = le.fit_transform(df[col])\n",
        "\n",
        "\n",
        "# Split the dataset into features (X) and labels (y)\n",
        "X = df.drop('Do you have Depression?', axis=1)\n",
        "y = df['Do you have Depression?']\n",
        "\n",
        "# Encode the categorical labels as integers\n",
        "encoder = LabelEncoder()\n",
        "y_encoded = encoder.fit_transform(y)\n",
        "\n",
        "# Convert the integer-encoded labels to one-hot encodings\n",
        "y_one_hot = to_categorical(y_encoded)\n",
        "\n",
        "# Split the dataset into training and test sets\n",
        "X_train, X_test, y_train, y_test = train_test_split(X, y_one_hot, test_size=0.2, random_state=42)\n",
        "\n",
        "# Build the neural network model\n",
        "model = Sequential()\n",
        "model.add(Dense(32, input_dim=X.shape[1], activation='relu'))\n",
        "model.add(Dense(16, activation='relu'))\n",
        "model.add(Dense(y_one_hot.shape[1], activation='softmax'))\n",
        "\n",
        "# Compile the model\n",
        "model.compile(loss='categorical_crossentropy', optimizer='adam', metrics=['accuracy'])\n",
        "\n",
        "# Train the model\n",
        "model.fit(X_train, y_train, epochs=100, batch_size=32, verbose=0)\n",
        "\n",
        "# Evaluate the model on the test set\n",
        "test_loss, test_accuracy = model.evaluate(X_test, y_test, verbose=0)\n",
        "print('Artificial neural network Depression Test accuracy:', test_accuracy)"
      ],
      "metadata": {
        "colab": {
          "base_uri": "https://localhost:8080/"
        },
        "id": "rcQh1muPC1WO",
        "outputId": "34a8ebf9-3cce-4ca1-abf9-3ef6e8f24b91"
      },
      "execution_count": 114,
      "outputs": [
        {
          "output_type": "stream",
          "name": "stdout",
          "text": [
            "Artificial neural network Depression Test accuracy: 0.6666666865348816\n"
          ]
        }
      ]
    },
    {
      "cell_type": "code",
      "source": [
        "import pandas as pd\n",
        "from sklearn.model_selection import train_test_split\n",
        "from sklearn.tree import DecisionTreeClassifier\n",
        "from sklearn.metrics import accuracy_score  \n",
        "from sklearn.preprocessing import LabelEncoder \n",
        "\n",
        "# Load your categorical dataset\n",
        "df = pd.read_csv('/content/drive/MyDrive/Colab Notebooks/Weka/data/depression.csv')\n",
        "\n",
        "# Encode categorical variables into numerical values\n",
        "le = LabelEncoder()\n",
        "for col in df.columns:\n",
        "    if df[col].dtype == \"object\":\n",
        "        df[col] = le.fit_transform(df[col])\n",
        "\n",
        "\n",
        "# Split the data into features (X) and target (y)\n",
        "X = df.drop(\"Do you have Depression?\", axis=1)\n",
        "y = df[\"Do you have Depression?\"]\n",
        "\n",
        "\n",
        "# Split the data into training and testing sets\n",
        "# train_data, test_data, train_labels, test_labels = train_test_split(df.drop('CGPA Category', axis=1), df['CGPA Category'], test_size=0.2)\n",
        "train_data, test_data, train_labels, test_labels = train_test_split(X, y, test_size=0.2)\n",
        "\n",
        "# Train the J48 classifier on the training data\n",
        "j48 = DecisionTreeClassifier(criterion='entropy')\n",
        "j48.fit(train_data, train_labels)\n",
        "\n",
        "# Make predictions on the test data\n",
        "predictions = j48.predict(test_data)\n",
        "\n",
        "# Evaluate the accuracy of the model\n",
        "accuracy = accuracy_score(test_labels, predictions)\n",
        "print(\"J48 Depression Accuracy:\", accuracy)"
      ],
      "metadata": {
        "colab": {
          "base_uri": "https://localhost:8080/"
        },
        "id": "zHoHEGw5D89K",
        "outputId": "6f0784ec-0d4c-4211-9c3b-1a0b6b907d7a"
      },
      "execution_count": 115,
      "outputs": [
        {
          "output_type": "stream",
          "name": "stdout",
          "text": [
            "J48 Depression Accuracy: 0.7619047619047619\n"
          ]
        }
      ]
    },
    {
      "cell_type": "markdown",
      "source": [
        "# Random forest model test with categorical dataset using python"
      ],
      "metadata": {
        "id": "AYh4n1Gxu6mX"
      }
    },
    {
      "cell_type": "markdown",
      "source": [
        "Sure, I can give you an example of how to test a random forest model with a categorical dataset in Python using scikit-learn.\n",
        "\n",
        "First, you need to import the necessary libraries:\n",
        "\n",
        "Next, you need to load your categorical dataset. Let's assume your dataset is stored in a CSV file named \"my_dataset.csv\". You can load it into a pandas DataFrame using the read_csv() function:\n",
        "Now, you need to split your dataset into training and testing sets. You can use the train_test_split() function for this:\n",
        "\n",
        "Here, we are splitting the dataset into training and testing sets with a test size of 20% and a random state of 42 (for reproducibility).\n",
        "\n",
        "Next, you can create a random forest classifier and fit it on the training data:\n",
        "\n",
        "Finally, you can use the trained model to make predictions on the test set and evaluate its performance using the accuracy score:\n",
        "\n",
        "That's it! This is a basic example of how to test a random forest model with a categorical dataset in Python using scikit-learn. You can customize the code according to your specific needs.\n"
      ],
      "metadata": {
        "id": "DyBWw0fSvFzY"
      }
    },
    {
      "cell_type": "code",
      "source": [
        "from sklearn.ensemble import RandomForestClassifier\n",
        "from sklearn.model_selection import train_test_split\n",
        "from sklearn.preprocessing import LabelEncoder\n",
        "from sklearn.metrics import accuracy_score, confusion_matrix\n",
        "import pandas as pd\n",
        "\n",
        "# Load the dataset\n",
        "df = pd.read_csv('/content/drive/MyDrive/Colab Notebooks/Data/CGPA.csv')\n",
        "\n",
        "\n",
        "# Encode categorical variables into numerical values\n",
        "le = LabelEncoder()\n",
        "for col in df.columns:\n",
        "    if df[col].dtype == \"object\":\n",
        "        df[col] = le.fit_transform(df[col])\n",
        "\n",
        "\n",
        "X = df.drop('CGPA Category', axis=1) # assuming the target variable is named \"target_variable\"\n",
        "y = df['CGPA Category']\n",
        "X_train, X_test, y_train, y_test = train_test_split(X, y, test_size=0.2, random_state=42)\n",
        "\n",
        "rf = RandomForestClassifier()\n",
        "rf.fit(X_train, y_train)\n",
        "\n",
        "y_pred = rf.predict(X_test)\n",
        "accuracy = accuracy_score(y_test, y_pred)\n",
        "\n",
        "\n",
        "print(\"Random Forest Classifier CGPA Accuracy:\", accuracy)\n",
        "\n",
        "print(\"Confusion Matrix:\\n\", confusion_matrix(y_test, y_pred))\n",
        "\n",
        "\n"
      ],
      "metadata": {
        "id": "EjtrOH17vX3e",
        "colab": {
          "base_uri": "https://localhost:8080/"
        },
        "outputId": "78a925f3-b10c-4ca9-9d2b-54960400705e"
      },
      "execution_count": 116,
      "outputs": [
        {
          "output_type": "stream",
          "name": "stdout",
          "text": [
            "Random Forest Classifier CGPA Accuracy: 0.6190476190476191\n",
            "Confusion Matrix:\n",
            " [[10  0  3  0]\n",
            " [ 0  0  1  0]\n",
            " [ 3  0  3  0]\n",
            " [ 1  0  0  0]]\n"
          ]
        }
      ]
    },
    {
      "cell_type": "markdown",
      "source": [],
      "metadata": {
        "id": "W8k-YbLR7byZ"
      }
    },
    {
      "cell_type": "code",
      "source": [
        "from sklearn.ensemble import RandomForestClassifier\n",
        "from sklearn.model_selection import train_test_split\n",
        "from sklearn.preprocessing import LabelEncoder\n",
        "from sklearn.metrics import accuracy_score, confusion_matrix\n",
        "import pandas as pd\n",
        "\n",
        "# Load the dataset\n",
        "df = pd.read_csv('/content/drive/MyDrive/Colab Notebooks/Weka/data/Current-year-of-Study.csv')\n",
        "\n",
        "\n",
        "# Encode categorical variables into numerical values\n",
        "le = LabelEncoder()\n",
        "for col in df.columns:\n",
        "    if df[col].dtype == \"object\":\n",
        "        df[col] = le.fit_transform(df[col])\n",
        "\n",
        "\n",
        "X = df.drop('Your current year of Study', axis=1) # assuming the target variable is named \"target_variable\"\n",
        "y = df['Your current year of Study']\n",
        "X_train, X_test, y_train, y_test = train_test_split(X, y, test_size=0.2, random_state=42)\n",
        "\n",
        "rf = RandomForestClassifier()\n",
        "rf.fit(X_train, y_train)\n",
        "\n",
        "y_pred = rf.predict(X_test)\n",
        "accuracy = accuracy_score(y_test, y_pred)\n",
        "\n",
        "\n",
        "print(\"Random Forest Classifier Your current year of Study Accuracy:\", accuracy)\n",
        "\n",
        "print(\"Confusion Matrix:\\n\", confusion_matrix(y_test, y_pred))\n",
        "\n",
        "\n"
      ],
      "metadata": {
        "colab": {
          "base_uri": "https://localhost:8080/"
        },
        "id": "mzj_GJdG7cBM",
        "outputId": "3e605b5c-dad1-4c03-9aa4-19d618edfac1"
      },
      "execution_count": 117,
      "outputs": [
        {
          "output_type": "stream",
          "name": "stdout",
          "text": [
            "Random Forest Classifier Your current year of Study Accuracy: 0.47619047619047616\n",
            "Confusion Matrix:\n",
            " [[9 0 0 0]\n",
            " [6 0 2 0]\n",
            " [2 0 1 0]\n",
            " [1 0 0 0]]\n"
          ]
        }
      ]
    },
    {
      "cell_type": "code",
      "source": [
        "from sklearn.ensemble import RandomForestClassifier\n",
        "from sklearn.model_selection import train_test_split\n",
        "from sklearn.preprocessing import LabelEncoder\n",
        "from sklearn.metrics import accuracy_score, confusion_matrix\n",
        "import pandas as pd\n",
        "\n",
        "# Load the dataset\n",
        "df = pd.read_csv('/content/drive/MyDrive/Colab Notebooks/Weka/data/Marital-status.csv')\n",
        "\n",
        "\n",
        "# Encode categorical variables into numerical values\n",
        "le = LabelEncoder()\n",
        "for col in df.columns:\n",
        "    if df[col].dtype == \"object\":\n",
        "        df[col] = le.fit_transform(df[col])\n",
        "\n",
        "\n",
        "X = df.drop('Marital status', axis=1) # assuming the target variable is named \"target_variable\"\n",
        "y = df['Marital status']\n",
        "X_train, X_test, y_train, y_test = train_test_split(X, y, test_size=0.2, random_state=42)\n",
        "\n",
        "rf = RandomForestClassifier()\n",
        "rf.fit(X_train, y_train)\n",
        "\n",
        "y_pred = rf.predict(X_test)\n",
        "accuracy = accuracy_score(y_test, y_pred)\n",
        "\n",
        "\n",
        "print(\"Random Forest Classifier Marital status Accuracy:\", accuracy)\n",
        "\n",
        "print(\"Confusion Matrix:\\n\", confusion_matrix(y_test, y_pred))\n",
        "\n",
        "\n"
      ],
      "metadata": {
        "colab": {
          "base_uri": "https://localhost:8080/"
        },
        "id": "mKGWtUMz75pA",
        "outputId": "b21ab35b-45fe-4bf3-9af9-40438ea510ea"
      },
      "execution_count": 118,
      "outputs": [
        {
          "output_type": "stream",
          "name": "stdout",
          "text": [
            "Random Forest Classifier Marital status Accuracy: 0.9047619047619048\n",
            "Confusion Matrix:\n",
            " [[17  1]\n",
            " [ 1  2]]\n"
          ]
        }
      ]
    },
    {
      "cell_type": "markdown",
      "source": [],
      "metadata": {
        "id": "w4gkTKwG8MWG"
      }
    },
    {
      "cell_type": "code",
      "source": [
        "from sklearn.ensemble import RandomForestClassifier\n",
        "from sklearn.model_selection import train_test_split\n",
        "from sklearn.preprocessing import LabelEncoder\n",
        "from sklearn.metrics import accuracy_score, confusion_matrix\n",
        "import pandas as pd\n",
        "\n",
        "# Load the dataset\n",
        "df = pd.read_csv('/content/drive/MyDrive/Colab Notebooks/Weka/data/depression.csv')\n",
        "\n",
        "\n",
        "# Encode categorical variables into numerical values\n",
        "le = LabelEncoder()\n",
        "for col in df.columns:\n",
        "    if df[col].dtype == \"object\":\n",
        "        df[col] = le.fit_transform(df[col])\n",
        "\n",
        "\n",
        "X = df.drop('Do you have Depression?', axis=1) # assuming the target variable is named \"target_variable\"\n",
        "y = df['Do you have Depression?']\n",
        "X_train, X_test, y_train, y_test = train_test_split(X, y, test_size=0.2, random_state=42)\n",
        "\n",
        "rf = RandomForestClassifier()\n",
        "rf.fit(X_train, y_train)\n",
        "\n",
        "y_pred = rf.predict(X_test)\n",
        "accuracy = accuracy_score(y_test, y_pred)\n",
        "\n",
        "\n",
        "print(\"Random Forest Classifier Depression Accuracy:\", accuracy)\n",
        "\n",
        "print(\"Confusion Matrix:\\n\", confusion_matrix(y_test, y_pred))\n",
        "\n",
        "\n"
      ],
      "metadata": {
        "colab": {
          "base_uri": "https://localhost:8080/"
        },
        "id": "OrKIF-hn8PGB",
        "outputId": "a761a1bd-3b08-4b89-8690-5c9a65caca6d"
      },
      "execution_count": 119,
      "outputs": [
        {
          "output_type": "stream",
          "name": "stdout",
          "text": [
            "Random Forest Classifier Depression Accuracy: 0.6666666666666666\n",
            "Confusion Matrix:\n",
            " [[12  1]\n",
            " [ 6  2]]\n"
          ]
        }
      ]
    },
    {
      "cell_type": "markdown",
      "source": [],
      "metadata": {
        "id": "XOKR60fi9DD_"
      }
    },
    {
      "cell_type": "markdown",
      "source": [
        "\n",
        "\n",
        "```\n",
        "# This is formatted as code\n",
        "```\n",
        "\n",
        "# New Section KNN"
      ],
      "metadata": {
        "id": "2Zp8AgU1v_Kw"
      }
    },
    {
      "cell_type": "markdown",
      "source": [
        "To test a KNN model with categorical dataset in Python, you can follow these general steps:\n",
        "\n",
        "Prepare your dataset: First, you need to prepare your categorical dataset. This can include loading the data from a CSV file, encoding the categorical variables, and splitting the dataset into training and testing sets.\n",
        "\n",
        "Import the necessary libraries: You will need to import the necessary libraries for data preprocessing, building the KNN model, and evaluating its performance. Some common libraries for this task are pandas, scikit-learn, and numpy.\n",
        "\n",
        "Preprocess the data: You will need to preprocess the data by scaling the numerical variables and encoding the categorical variables using techniques such as one-hot encoding or label encoding.\n",
        "\n",
        "Build the KNN model: You can build a KNN model using scikit-learn's KNeighborsClassifier function. You will need to specify the number of neighbors to consider, as well as any other hyperparameters you want to tune.\n",
        "\n",
        "Train the KNN model: You can train the KNN model using the fit() method of the KNeighborsClassifier object. This will fit the model to the training data.\n",
        "\n",
        "Test the KNN model: You can test the KNN model using the predict() method of the KNeighborsClassifier object. This will predict the class labels for the test data.\n",
        "\n",
        "Evaluate the KNN model: You can evaluate the performance of the KNN model using metrics such as accuracy, precision, recall, and F1 score. You can use scikit-learn's classification_report() function to generate a report with these metrics.\n",
        "\n",
        "Here is some example code that demonstrates these steps:"
      ],
      "metadata": {
        "id": "WQP8ChJ_MIBz"
      }
    },
    {
      "cell_type": "code",
      "source": [
        "import pandas as pd\n",
        "from sklearn.preprocessing import LabelEncoder, StandardScaler\n",
        "from sklearn.model_selection import train_test_split\n",
        "from sklearn.neighbors import KNeighborsClassifier\n",
        "from sklearn.metrics import classification_report\n",
        "\n",
        "# Load the dataset\n",
        "df = pd.read_csv('/content/drive/MyDrive/Colab Notebooks/Weka/data/CGPA.csv')\n",
        "\n",
        "# Split the dataset into training and testing sets\n",
        "X = df.drop('CGPA Category', axis=1)\n",
        "y = df['CGPA Category']\n",
        "X_train, X_test, y_train, y_test = train_test_split(X, y, test_size=0.2, random_state=42)\n",
        "\n",
        "# Encode the categorical variables using label encoding\n",
        "le = LabelEncoder()\n",
        "for col in X_train.select_dtypes(include='object').columns:\n",
        "    X_train[col] = le.fit_transform(X_train[col])\n",
        "    X_test[col] = le.transform(X_test[col])\n",
        "\n",
        "# Scale the numerical variables using standard scaling\n",
        "scaler = StandardScaler()\n",
        "for col in X_train.select_dtypes(include='number').columns:\n",
        "    X_train[col] = scaler.fit_transform(X_train[[col]])\n",
        "    X_test[col] = scaler.transform(X_test[[col]])\n",
        "\n",
        "# Build the KNN model\n",
        "k = 10\n",
        "knn = KNeighborsClassifier(n_neighbors=k)\n",
        "\n",
        "# Train the KNN model\n",
        "knn.fit(X_train, y_train)\n",
        "\n",
        "# Test the KNN model\n",
        "y_pred = knn.predict(X_test)\n",
        "\n",
        "# Evaluate the KNN model\n",
        "print(classification_report(y_test, y_pred))\n",
        "\n",
        "\n",
        "accuracy = accuracy_score(y_test, y_pred)\n",
        "print(\"KNN CGPA Accuracy:\", accuracy)\n"
      ],
      "metadata": {
        "colab": {
          "base_uri": "https://localhost:8080/"
        },
        "id": "H4n-fyInOSxr",
        "outputId": "134a37c1-9a5a-49b1-848f-06464c5d6f04"
      },
      "execution_count": 212,
      "outputs": [
        {
          "output_type": "stream",
          "name": "stdout",
          "text": [
            "              precision    recall  f1-score   support\n",
            "\n",
            "     Average       0.71      0.77      0.74        13\n",
            "         Bad       0.00      0.00      0.00         1\n",
            "   Excellent       0.43      0.50      0.46         6\n",
            "        Fail       0.00      0.00      0.00         1\n",
            "\n",
            "    accuracy                           0.62        21\n",
            "   macro avg       0.29      0.32      0.30        21\n",
            "weighted avg       0.56      0.62      0.59        21\n",
            "\n",
            "KNN CGPA Accuracy: 0.6190476190476191\n"
          ]
        },
        {
          "output_type": "stream",
          "name": "stderr",
          "text": [
            "/usr/local/lib/python3.8/dist-packages/sklearn/metrics/_classification.py:1318: UndefinedMetricWarning: Precision and F-score are ill-defined and being set to 0.0 in labels with no predicted samples. Use `zero_division` parameter to control this behavior.\n",
            "  _warn_prf(average, modifier, msg_start, len(result))\n",
            "/usr/local/lib/python3.8/dist-packages/sklearn/metrics/_classification.py:1318: UndefinedMetricWarning: Precision and F-score are ill-defined and being set to 0.0 in labels with no predicted samples. Use `zero_division` parameter to control this behavior.\n",
            "  _warn_prf(average, modifier, msg_start, len(result))\n",
            "/usr/local/lib/python3.8/dist-packages/sklearn/metrics/_classification.py:1318: UndefinedMetricWarning: Precision and F-score are ill-defined and being set to 0.0 in labels with no predicted samples. Use `zero_division` parameter to control this behavior.\n",
            "  _warn_prf(average, modifier, msg_start, len(result))\n"
          ]
        }
      ]
    },
    {
      "cell_type": "code",
      "source": [
        "import pandas as pd\n",
        "from sklearn.preprocessing import LabelEncoder, StandardScaler\n",
        "from sklearn.model_selection import train_test_split\n",
        "from sklearn.neighbors import KNeighborsClassifier\n",
        "from sklearn.metrics import classification_report\n",
        "\n",
        "# Load the dataset\n",
        "df = pd.read_csv('/content/drive/MyDrive/Colab Notebooks/Weka/data/Current-year-of-Study.csv')\n",
        "\n",
        "# Split the dataset into training and testing sets\n",
        "X = df.drop('Your current year of Study', axis=1)\n",
        "\n",
        "y =  df['Your current year of Study']\n",
        "\n",
        "\n",
        "X_train, X_test, y_train, y_test = train_test_split(X, y, test_size=0.2, random_state=42)\n",
        "\n",
        "# Encode the categorical variables using label encoding\n",
        "le = LabelEncoder()\n",
        "for col in X_train.select_dtypes(include='object').columns:\n",
        "    X_train[col] = le.fit_transform(X_train[col])\n",
        "    X_test[col] = le.transform(X_test[col])\n",
        "\n",
        "# Scale the numerical variables using standard scaling\n",
        "scaler = StandardScaler()\n",
        "for col in X_train.select_dtypes(include='number').columns:\n",
        "    X_train[col] = scaler.fit_transform(X_train[[col]])\n",
        "    X_test[col] = scaler.transform(X_test[[col]])\n",
        "\n",
        "# Build the KNN model\n",
        "k = 10\n",
        "knn = KNeighborsClassifier(n_neighbors=k)\n",
        "\n",
        "# Train the KNN model\n",
        "knn.fit(X_train, y_train)\n",
        "\n",
        "# Test the KNN model\n",
        "y_pred = knn.predict(X_test)\n",
        "\n",
        "# Evaluate the KNN model\n",
        "print(classification_report(y_test, y_pred))\n",
        "\n",
        "\n",
        "accuracy = accuracy_score(y_test, y_pred)\n",
        "print(\"KNN Current year of Study Accuracy:\", accuracy)\n"
      ],
      "metadata": {
        "colab": {
          "base_uri": "https://localhost:8080/"
        },
        "id": "27u8ZO4rOeAR",
        "outputId": "0cad1c6d-e8c0-487e-a254-7ab6cd2c208a"
      },
      "execution_count": 211,
      "outputs": [
        {
          "output_type": "stream",
          "name": "stdout",
          "text": [
            "              precision    recall  f1-score   support\n",
            "\n",
            "      Year 1       0.50      1.00      0.67         9\n",
            "      Year 2       0.00      0.00      0.00         8\n",
            "      Year 3       0.33      0.33      0.33         3\n",
            "      Year 4       0.00      0.00      0.00         1\n",
            "\n",
            "    accuracy                           0.48        21\n",
            "   macro avg       0.21      0.33      0.25        21\n",
            "weighted avg       0.26      0.48      0.33        21\n",
            "\n",
            "KNN Current year of Study Accuracy: 0.47619047619047616\n"
          ]
        },
        {
          "output_type": "stream",
          "name": "stderr",
          "text": [
            "/usr/local/lib/python3.8/dist-packages/sklearn/metrics/_classification.py:1318: UndefinedMetricWarning: Precision and F-score are ill-defined and being set to 0.0 in labels with no predicted samples. Use `zero_division` parameter to control this behavior.\n",
            "  _warn_prf(average, modifier, msg_start, len(result))\n",
            "/usr/local/lib/python3.8/dist-packages/sklearn/metrics/_classification.py:1318: UndefinedMetricWarning: Precision and F-score are ill-defined and being set to 0.0 in labels with no predicted samples. Use `zero_division` parameter to control this behavior.\n",
            "  _warn_prf(average, modifier, msg_start, len(result))\n",
            "/usr/local/lib/python3.8/dist-packages/sklearn/metrics/_classification.py:1318: UndefinedMetricWarning: Precision and F-score are ill-defined and being set to 0.0 in labels with no predicted samples. Use `zero_division` parameter to control this behavior.\n",
            "  _warn_prf(average, modifier, msg_start, len(result))\n"
          ]
        }
      ]
    },
    {
      "cell_type": "code",
      "source": [
        "import pandas as pd\n",
        "from sklearn.preprocessing import LabelEncoder, StandardScaler\n",
        "from sklearn.model_selection import train_test_split\n",
        "from sklearn.neighbors import KNeighborsClassifier\n",
        "from sklearn.metrics import classification_report\n",
        "\n",
        "# Load the dataset\n",
        "df = pd.read_csv('/content/drive/MyDrive/Colab Notebooks/Weka/data/Marital-status.csv')\n",
        "\n",
        "# Split the dataset into training and testing sets\n",
        "\n",
        "X = df.drop('Marital status', axis=1)\n",
        "\n",
        "y =  df['Marital status']\n",
        "\n",
        "X_train, X_test, y_train, y_test = train_test_split(X, y, test_size=0.2, random_state=42)\n",
        "\n",
        "# Encode the categorical variables using label encoding\n",
        "le = LabelEncoder()\n",
        "for col in X_train.select_dtypes(include='object').columns:\n",
        "    X_train[col] = le.fit_transform(X_train[col])\n",
        "    X_test[col] = le.transform(X_test[col])\n",
        "\n",
        "# Scale the numerical variables using standard scaling\n",
        "scaler = StandardScaler()\n",
        "for col in X_train.select_dtypes(include='number').columns:\n",
        "    X_train[col] = scaler.fit_transform(X_train[[col]])\n",
        "    X_test[col] = scaler.transform(X_test[[col]])\n",
        "\n",
        "# Build the KNN model\n",
        "k = 10\n",
        "knn = KNeighborsClassifier(n_neighbors=k)\n",
        "\n",
        "# Train the KNN model\n",
        "knn.fit(X_train, y_train)\n",
        "\n",
        "# Test the KNN model\n",
        "y_pred = knn.predict(X_test)\n",
        "\n",
        "# Evaluate the KNN model\n",
        "print(classification_report(y_test, y_pred))\n",
        "\n",
        "\n",
        "accuracy = accuracy_score(y_test, y_pred)\n",
        "print(\"KNN Marital status Accuracy:\", accuracy)\n"
      ],
      "metadata": {
        "colab": {
          "base_uri": "https://localhost:8080/"
        },
        "id": "NFzH-6RRPHQX",
        "outputId": "e284de06-f3d5-4d6d-b78c-59e69a2dc79b"
      },
      "execution_count": 210,
      "outputs": [
        {
          "output_type": "stream",
          "name": "stdout",
          "text": [
            "              precision    recall  f1-score   support\n",
            "\n",
            "          No       0.89      0.94      0.92        18\n",
            "         Yes       0.50      0.33      0.40         3\n",
            "\n",
            "    accuracy                           0.86        21\n",
            "   macro avg       0.70      0.64      0.66        21\n",
            "weighted avg       0.84      0.86      0.84        21\n",
            "\n",
            "KNN Marital status Accuracy: 0.8571428571428571\n"
          ]
        }
      ]
    },
    {
      "cell_type": "code",
      "source": [
        "import pandas as pd\n",
        "from sklearn.preprocessing import LabelEncoder, StandardScaler\n",
        "from sklearn.model_selection import train_test_split\n",
        "from sklearn.neighbors import KNeighborsClassifier\n",
        "from sklearn.metrics import classification_report\n",
        "\n",
        "# Load the dataset\n",
        "df = pd.read_csv('/content/drive/MyDrive/Colab Notebooks/Weka/data/depression.csv')\n",
        "\n",
        "# Split the dataset into training and testing sets\n",
        "\n",
        "X = df.drop('Do you have Depression?', axis=1)\n",
        "y = df['Do you have Depression?']\n",
        "\n",
        "X_train, X_test, y_train, y_test = train_test_split(X, y, test_size=0.2, random_state=42)\n",
        "\n",
        "# Encode the categorical variables using label encoding\n",
        "le = LabelEncoder()\n",
        "for col in X_train.select_dtypes(include='object').columns:\n",
        "    X_train[col] = le.fit_transform(X_train[col])\n",
        "    X_test[col] = le.transform(X_test[col])\n",
        "\n",
        "# Scale the numerical variables using standard scaling\n",
        "scaler = StandardScaler()\n",
        "for col in X_train.select_dtypes(include='number').columns:\n",
        "    X_train[col] = scaler.fit_transform(X_train[[col]])\n",
        "    X_test[col] = scaler.transform(X_test[[col]])\n",
        "\n",
        "# Build the KNN model\n",
        "k = 10\n",
        "knn = KNeighborsClassifier(n_neighbors=k)\n",
        "\n",
        "# Train the KNN model\n",
        "knn.fit(X_train, y_train)\n",
        "\n",
        "# Test the KNN model\n",
        "y_pred = knn.predict(X_test)\n",
        "\n",
        "# Evaluate the KNN model\n",
        "print(classification_report(y_test, y_pred))\n",
        "\n",
        "\n",
        "accuracy = accuracy_score(y_test, y_pred)\n",
        "print(\"KNN Depression Accuracy:\", accuracy)\n"
      ],
      "metadata": {
        "colab": {
          "base_uri": "https://localhost:8080/"
        },
        "id": "sZTTceX6PbGk",
        "outputId": "b0f1345e-c748-4a9a-b129-0df30b89af24"
      },
      "execution_count": 208,
      "outputs": [
        {
          "output_type": "stream",
          "name": "stdout",
          "text": [
            "              precision    recall  f1-score   support\n",
            "\n",
            "          No       0.63      0.92      0.75        13\n",
            "         Yes       0.50      0.12      0.20         8\n",
            "\n",
            "    accuracy                           0.62        21\n",
            "   macro avg       0.57      0.52      0.47        21\n",
            "weighted avg       0.58      0.62      0.54        21\n",
            "\n",
            "KNN Depression Accuracy: 0.6190476190476191\n"
          ]
        }
      ]
    }
  ]
}