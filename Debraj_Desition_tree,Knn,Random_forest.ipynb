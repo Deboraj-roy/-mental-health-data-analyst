{
  "cells": [
    {
      "cell_type": "markdown",
      "metadata": {
        "id": "view-in-github",
        "colab_type": "text"
      },
      "source": [
        "<a href=\"https://colab.research.google.com/github/Deboraj-roy/-mental-health-data-analyst/blob/main/Debraj_Desition_tree%2CKnn%2CRandom_forest.ipynb\" target=\"_parent\"><img src=\"https://colab.research.google.com/assets/colab-badge.svg\" alt=\"Open In Colab\"/></a>"
      ]
    },
    {
      "cell_type": "code",
      "execution_count": null,
      "id": "cb91c671",
      "metadata": {
        "id": "cb91c671"
      },
      "outputs": [],
      "source": [
        "import numpy as np # linear algebra\n",
        "import pandas as pd # data processing, CSV file I/O (e.g. pd.read_csv)\n",
        "\n"
      ]
    },
    {
      "cell_type": "code",
      "execution_count": null,
      "id": "87e18648",
      "metadata": {
        "id": "87e18648"
      },
      "outputs": [],
      "source": [
        "c = pd.read_csv('CGPA.csv')\n",
        "d = pd.read_csv('depression.csv')\n",
        "m =pd.read_csv('Marital-status.csv')\n",
        "s = pd.read_csv('Current-year-of-Study.csv')"
      ]
    },
    {
      "cell_type": "code",
      "execution_count": null,
      "id": "101fad2a",
      "metadata": {
        "id": "101fad2a",
        "outputId": "8b52b820-abce-43dd-f23b-eff4570852d5"
      },
      "outputs": [
        {
          "data": {
            "text/html": [
              "<div>\n",
              "<style scoped>\n",
              "    .dataframe tbody tr th:only-of-type {\n",
              "        vertical-align: middle;\n",
              "    }\n",
              "\n",
              "    .dataframe tbody tr th {\n",
              "        vertical-align: top;\n",
              "    }\n",
              "\n",
              "    .dataframe thead th {\n",
              "        text-align: right;\n",
              "    }\n",
              "</style>\n",
              "<table border=\"1\" class=\"dataframe\">\n",
              "  <thead>\n",
              "    <tr style=\"text-align: right;\">\n",
              "      <th></th>\n",
              "      <th>Marital_status</th>\n",
              "      <th>Your_current_year_of_Study</th>\n",
              "    </tr>\n",
              "  </thead>\n",
              "  <tbody>\n",
              "    <tr>\n",
              "      <th>0</th>\n",
              "      <td>No</td>\n",
              "      <td>Year1</td>\n",
              "    </tr>\n",
              "    <tr>\n",
              "      <th>1</th>\n",
              "      <td>No</td>\n",
              "      <td>Year2</td>\n",
              "    </tr>\n",
              "    <tr>\n",
              "      <th>2</th>\n",
              "      <td>No</td>\n",
              "      <td>Year1</td>\n",
              "    </tr>\n",
              "    <tr>\n",
              "      <th>3</th>\n",
              "      <td>Yes</td>\n",
              "      <td>Year3</td>\n",
              "    </tr>\n",
              "    <tr>\n",
              "      <th>4</th>\n",
              "      <td>No</td>\n",
              "      <td>Year4</td>\n",
              "    </tr>\n",
              "    <tr>\n",
              "      <th>...</th>\n",
              "      <td>...</td>\n",
              "      <td>...</td>\n",
              "    </tr>\n",
              "    <tr>\n",
              "      <th>96</th>\n",
              "      <td>No</td>\n",
              "      <td>Year1</td>\n",
              "    </tr>\n",
              "    <tr>\n",
              "      <th>97</th>\n",
              "      <td>No</td>\n",
              "      <td>Year2</td>\n",
              "    </tr>\n",
              "    <tr>\n",
              "      <th>98</th>\n",
              "      <td>Yes</td>\n",
              "      <td>Year3</td>\n",
              "    </tr>\n",
              "    <tr>\n",
              "      <th>99</th>\n",
              "      <td>No</td>\n",
              "      <td>Year4</td>\n",
              "    </tr>\n",
              "    <tr>\n",
              "      <th>100</th>\n",
              "      <td>No</td>\n",
              "      <td>Year2</td>\n",
              "    </tr>\n",
              "  </tbody>\n",
              "</table>\n",
              "<p>101 rows × 2 columns</p>\n",
              "</div>"
            ],
            "text/plain": [
              "    Marital_status Your_current_year_of_Study\n",
              "0               No                      Year1\n",
              "1               No                      Year2\n",
              "2               No                      Year1\n",
              "3              Yes                      Year3\n",
              "4               No                      Year4\n",
              "..             ...                        ...\n",
              "96              No                      Year1\n",
              "97              No                      Year2\n",
              "98             Yes                      Year3\n",
              "99              No                      Year4\n",
              "100             No                      Year2\n",
              "\n",
              "[101 rows x 2 columns]"
            ]
          },
          "execution_count": 3,
          "metadata": {},
          "output_type": "execute_result"
        }
      ],
      "source": [
        "\n",
        "s"
      ]
    },
    {
      "cell_type": "code",
      "execution_count": null,
      "id": "a4aae28c",
      "metadata": {
        "id": "a4aae28c"
      },
      "outputs": [],
      "source": [
        "s.drop_duplicates(inplace=True)"
      ]
    },
    {
      "cell_type": "code",
      "execution_count": null,
      "id": "58ae036a",
      "metadata": {
        "id": "58ae036a",
        "outputId": "19094bc2-a01a-408b-c7cc-e03fc47debc5"
      },
      "outputs": [
        {
          "data": {
            "text/html": [
              "<div>\n",
              "<style scoped>\n",
              "    .dataframe tbody tr th:only-of-type {\n",
              "        vertical-align: middle;\n",
              "    }\n",
              "\n",
              "    .dataframe tbody tr th {\n",
              "        vertical-align: top;\n",
              "    }\n",
              "\n",
              "    .dataframe thead th {\n",
              "        text-align: right;\n",
              "    }\n",
              "</style>\n",
              "<table border=\"1\" class=\"dataframe\">\n",
              "  <thead>\n",
              "    <tr style=\"text-align: right;\">\n",
              "      <th></th>\n",
              "      <th>Marital_status</th>\n",
              "      <th>Your_current_year_of_Study</th>\n",
              "    </tr>\n",
              "  </thead>\n",
              "  <tbody>\n",
              "    <tr>\n",
              "      <th>0</th>\n",
              "      <td>No</td>\n",
              "      <td>Year1</td>\n",
              "    </tr>\n",
              "    <tr>\n",
              "      <th>1</th>\n",
              "      <td>No</td>\n",
              "      <td>Year2</td>\n",
              "    </tr>\n",
              "    <tr>\n",
              "      <th>3</th>\n",
              "      <td>Yes</td>\n",
              "      <td>Year3</td>\n",
              "    </tr>\n",
              "    <tr>\n",
              "      <th>4</th>\n",
              "      <td>No</td>\n",
              "      <td>Year4</td>\n",
              "    </tr>\n",
              "    <tr>\n",
              "      <th>6</th>\n",
              "      <td>Yes</td>\n",
              "      <td>Year2</td>\n",
              "    </tr>\n",
              "    <tr>\n",
              "      <th>15</th>\n",
              "      <td>No</td>\n",
              "      <td>Year3</td>\n",
              "    </tr>\n",
              "    <tr>\n",
              "      <th>17</th>\n",
              "      <td>Yes</td>\n",
              "      <td>Year4</td>\n",
              "    </tr>\n",
              "    <tr>\n",
              "      <th>50</th>\n",
              "      <td>Yes</td>\n",
              "      <td>Year1</td>\n",
              "    </tr>\n",
              "  </tbody>\n",
              "</table>\n",
              "</div>"
            ],
            "text/plain": [
              "   Marital_status Your_current_year_of_Study\n",
              "0              No                      Year1\n",
              "1              No                      Year2\n",
              "3             Yes                      Year3\n",
              "4              No                      Year4\n",
              "6             Yes                      Year2\n",
              "15             No                      Year3\n",
              "17            Yes                      Year4\n",
              "50            Yes                      Year1"
            ]
          },
          "execution_count": 5,
          "metadata": {},
          "output_type": "execute_result"
        }
      ],
      "source": [
        "s.head(10)"
      ]
    },
    {
      "cell_type": "code",
      "execution_count": null,
      "id": "c54a8756",
      "metadata": {
        "id": "c54a8756",
        "outputId": "c6a3be6e-6742-4c3c-f03b-dcf986b14780"
      },
      "outputs": [
        {
          "data": {
            "text/plain": [
              "(8, 2)"
            ]
          },
          "execution_count": 6,
          "metadata": {},
          "output_type": "execute_result"
        }
      ],
      "source": [
        "s.shape"
      ]
    },
    {
      "cell_type": "code",
      "execution_count": null,
      "id": "aef5a471",
      "metadata": {
        "id": "aef5a471",
        "outputId": "835e7331-63fc-485d-f66e-1bc35d6bff6d"
      },
      "outputs": [
        {
          "data": {
            "text/html": [
              "<div>\n",
              "<style scoped>\n",
              "    .dataframe tbody tr th:only-of-type {\n",
              "        vertical-align: middle;\n",
              "    }\n",
              "\n",
              "    .dataframe tbody tr th {\n",
              "        vertical-align: top;\n",
              "    }\n",
              "\n",
              "    .dataframe thead th {\n",
              "        text-align: right;\n",
              "    }\n",
              "</style>\n",
              "<table border=\"1\" class=\"dataframe\">\n",
              "  <thead>\n",
              "    <tr style=\"text-align: right;\">\n",
              "      <th></th>\n",
              "      <th>Do_you_have_Panic_attack?</th>\n",
              "      <th>Did_you_seek_any_specialist_for_a_treatment?</th>\n",
              "      <th>CGPA_Category</th>\n",
              "    </tr>\n",
              "  </thead>\n",
              "  <tbody>\n",
              "    <tr>\n",
              "      <th>0</th>\n",
              "      <td>Yes</td>\n",
              "      <td>No</td>\n",
              "      <td>Average</td>\n",
              "    </tr>\n",
              "    <tr>\n",
              "      <th>1</th>\n",
              "      <td>No</td>\n",
              "      <td>No</td>\n",
              "      <td>Average</td>\n",
              "    </tr>\n",
              "    <tr>\n",
              "      <th>2</th>\n",
              "      <td>Yes</td>\n",
              "      <td>No</td>\n",
              "      <td>Average</td>\n",
              "    </tr>\n",
              "    <tr>\n",
              "      <th>3</th>\n",
              "      <td>No</td>\n",
              "      <td>No</td>\n",
              "      <td>Average</td>\n",
              "    </tr>\n",
              "    <tr>\n",
              "      <th>4</th>\n",
              "      <td>No</td>\n",
              "      <td>No</td>\n",
              "      <td>Average</td>\n",
              "    </tr>\n",
              "    <tr>\n",
              "      <th>5</th>\n",
              "      <td>Yes</td>\n",
              "      <td>No</td>\n",
              "      <td>Excellent</td>\n",
              "    </tr>\n",
              "    <tr>\n",
              "      <th>6</th>\n",
              "      <td>Yes</td>\n",
              "      <td>No</td>\n",
              "      <td>Excellent</td>\n",
              "    </tr>\n",
              "    <tr>\n",
              "      <th>7</th>\n",
              "      <td>No</td>\n",
              "      <td>No</td>\n",
              "      <td>Excellent</td>\n",
              "    </tr>\n",
              "    <tr>\n",
              "      <th>8</th>\n",
              "      <td>No</td>\n",
              "      <td>No</td>\n",
              "      <td>Bad</td>\n",
              "    </tr>\n",
              "    <tr>\n",
              "      <th>9</th>\n",
              "      <td>Yes</td>\n",
              "      <td>No</td>\n",
              "      <td>Excellent</td>\n",
              "    </tr>\n",
              "  </tbody>\n",
              "</table>\n",
              "</div>"
            ],
            "text/plain": [
              "  Do_you_have_Panic_attack? Did_you_seek_any_specialist_for_a_treatment?  \\\n",
              "0                       Yes                                           No   \n",
              "1                        No                                           No   \n",
              "2                       Yes                                           No   \n",
              "3                        No                                           No   \n",
              "4                        No                                           No   \n",
              "5                       Yes                                           No   \n",
              "6                       Yes                                           No   \n",
              "7                        No                                           No   \n",
              "8                        No                                           No   \n",
              "9                       Yes                                           No   \n",
              "\n",
              "  CGPA_Category  \n",
              "0       Average  \n",
              "1       Average  \n",
              "2       Average  \n",
              "3       Average  \n",
              "4       Average  \n",
              "5     Excellent  \n",
              "6     Excellent  \n",
              "7     Excellent  \n",
              "8           Bad  \n",
              "9     Excellent  "
            ]
          },
          "execution_count": 7,
          "metadata": {},
          "output_type": "execute_result"
        }
      ],
      "source": [
        "c.head(10)"
      ]
    },
    {
      "cell_type": "code",
      "execution_count": null,
      "id": "0b3a6a75",
      "metadata": {
        "id": "0b3a6a75",
        "outputId": "867deec4-dc9a-4017-9bb3-e10ab87b1843"
      },
      "outputs": [
        {
          "name": "stdout",
          "output_type": "stream",
          "text": [
            "<class 'pandas.core.frame.DataFrame'>\n",
            "RangeIndex: 101 entries, 0 to 100\n",
            "Data columns (total 3 columns):\n",
            " #   Column                                        Non-Null Count  Dtype \n",
            "---  ------                                        --------------  ----- \n",
            " 0   Do_you_have_Panic_attack?                     101 non-null    object\n",
            " 1   Did_you_seek_any_specialist_for_a_treatment?  101 non-null    object\n",
            " 2   CGPA_Category                                 101 non-null    object\n",
            "dtypes: object(3)\n",
            "memory usage: 2.5+ KB\n"
          ]
        }
      ],
      "source": [
        "c.info()\n"
      ]
    },
    {
      "cell_type": "code",
      "execution_count": null,
      "id": "873de13a",
      "metadata": {
        "id": "873de13a",
        "outputId": "bcc8d613-e694-4496-9a95-d76dcb6adc28"
      },
      "outputs": [
        {
          "name": "stdout",
          "output_type": "stream",
          "text": [
            "<class 'pandas.core.frame.DataFrame'>\n",
            "RangeIndex: 101 entries, 0 to 100\n",
            "Data columns (total 4 columns):\n",
            " #   Column                                        Non-Null Count  Dtype \n",
            "---  ------                                        --------------  ----- \n",
            " 0   Do_you_have_Anxiety?                          101 non-null    object\n",
            " 1   Do_you_have_Panic_attack?                     101 non-null    object\n",
            " 2   Did_you_seek_any_specialist_for_a_treatment?  101 non-null    object\n",
            " 3   Do_you_have_Depression?                       101 non-null    object\n",
            "dtypes: object(4)\n",
            "memory usage: 3.3+ KB\n"
          ]
        }
      ],
      "source": [
        "d.info()"
      ]
    },
    {
      "cell_type": "code",
      "execution_count": null,
      "id": "43275355",
      "metadata": {
        "id": "43275355",
        "outputId": "533f9761-544e-4bfb-a9ff-01a39048aa4a"
      },
      "outputs": [
        {
          "name": "stdout",
          "output_type": "stream",
          "text": [
            "<class 'pandas.core.frame.DataFrame'>\n",
            "RangeIndex: 101 entries, 0 to 100\n",
            "Data columns (total 4 columns):\n",
            " #   Column                                        Non-Null Count  Dtype \n",
            "---  ------                                        --------------  ----- \n",
            " 0   Do_you_have_Depression?                       101 non-null    object\n",
            " 1   Do_you_have_Panic_attack?                     101 non-null    object\n",
            " 2   Did_you_seek_any_specialist_for_a_treatment?  101 non-null    object\n",
            " 3   Marital_status                                101 non-null    object\n",
            "dtypes: object(4)\n",
            "memory usage: 3.3+ KB\n"
          ]
        }
      ],
      "source": [
        "m.info()"
      ]
    },
    {
      "cell_type": "code",
      "execution_count": null,
      "id": "90a60ef8",
      "metadata": {
        "id": "90a60ef8",
        "outputId": "6a527fb3-f7d2-4ce2-da1f-4b8000a8cbb2"
      },
      "outputs": [
        {
          "name": "stdout",
          "output_type": "stream",
          "text": [
            "<class 'pandas.core.frame.DataFrame'>\n",
            "Int64Index: 8 entries, 0 to 50\n",
            "Data columns (total 2 columns):\n",
            " #   Column                      Non-Null Count  Dtype \n",
            "---  ------                      --------------  ----- \n",
            " 0   Marital_status              8 non-null      object\n",
            " 1   Your_current_year_of_Study  8 non-null      object\n",
            "dtypes: object(2)\n",
            "memory usage: 192.0+ bytes\n"
          ]
        }
      ],
      "source": [
        "s.info()"
      ]
    },
    {
      "cell_type": "code",
      "execution_count": null,
      "id": "f9d22072",
      "metadata": {
        "id": "f9d22072"
      },
      "outputs": [],
      "source": []
    },
    {
      "cell_type": "code",
      "execution_count": null,
      "id": "602c0721",
      "metadata": {
        "id": "602c0721"
      },
      "outputs": [],
      "source": [
        "import sklearn\n",
        "from pandas import read_csv\n",
        "from numpy import set_printoptions\n",
        "from sklearn import preprocessing\n",
        "from sklearn.preprocessing import OneHotEncoder"
      ]
    },
    {
      "cell_type": "code",
      "execution_count": null,
      "id": "2b12fc8e",
      "metadata": {
        "id": "2b12fc8e"
      },
      "outputs": [],
      "source": [
        "c=pd.get_dummies(c,columns=['Do_you_have_Panic_attack?','Did_you_seek_any_specialist_for_a_treatment?','CGPA_Category'])\n",
        "d=pd.get_dummies(d,columns=['Do_you_have_Anxiety?','Do_you_have_Panic_attack?','Did_you_seek_any_specialist_for_a_treatment?','Do_you_have_Depression?'])\n"
      ]
    },
    {
      "cell_type": "code",
      "execution_count": null,
      "id": "2087a330",
      "metadata": {
        "id": "2087a330"
      },
      "outputs": [],
      "source": [
        "from sklearn.preprocessing import OneHotEncoder\n",
        "ohe = OneHotEncoder(drop='first',sparse=False,dtype=np.int32,handle_unknown=\"ignore\")\n",
        "m = ohe.fit_transform(m[['Do_you_have_Panic_attack?','Did_you_seek_any_specialist_for_a_treatment?','Marital_status','Do_you_have_Depression?']])\n",
        "# X_test_new = ohe.transform(X_test[['fuel','owner']])"
      ]
    },
    {
      "cell_type": "code",
      "execution_count": null,
      "id": "280ff6d6",
      "metadata": {
        "id": "280ff6d6"
      },
      "outputs": [],
      "source": [
        "ohe_s= OneHotEncoder(drop='first',sparse=False,dtype=np.int32,handle_unknown=\"ignore\")\n",
        "s=ohe_s.fit_transform(s[['Marital_status','Your_current_year_of_Study']])\n",
        "# s=pd.get_dummies(s,columns=['Marital_status','Your_current_year_of_Study'])\n"
      ]
    },
    {
      "cell_type": "code",
      "execution_count": null,
      "id": "4cc02f19",
      "metadata": {
        "id": "4cc02f19",
        "outputId": "d10c3bcc-9adf-4b3e-98ef-4b9609a68f17"
      },
      "outputs": [
        {
          "data": {
            "text/plain": [
              "array([[0, 0, 0, 0],\n",
              "       [0, 1, 0, 0],\n",
              "       [1, 0, 1, 0],\n",
              "       [0, 0, 0, 1],\n",
              "       [1, 1, 0, 0],\n",
              "       [0, 0, 1, 0],\n",
              "       [1, 0, 0, 1],\n",
              "       [1, 0, 0, 0]])"
            ]
          },
          "execution_count": 16,
          "metadata": {},
          "output_type": "execute_result"
        }
      ],
      "source": [
        "s"
      ]
    },
    {
      "cell_type": "code",
      "execution_count": null,
      "id": "8eca32a2",
      "metadata": {
        "id": "8eca32a2",
        "outputId": "b7cdb067-b40f-4c31-c386-12e2a8f9b3aa"
      },
      "outputs": [
        {
          "data": {
            "text/html": [
              "<div>\n",
              "<style scoped>\n",
              "    .dataframe tbody tr th:only-of-type {\n",
              "        vertical-align: middle;\n",
              "    }\n",
              "\n",
              "    .dataframe tbody tr th {\n",
              "        vertical-align: top;\n",
              "    }\n",
              "\n",
              "    .dataframe thead th {\n",
              "        text-align: right;\n",
              "    }\n",
              "</style>\n",
              "<table border=\"1\" class=\"dataframe\">\n",
              "  <thead>\n",
              "    <tr style=\"text-align: right;\">\n",
              "      <th></th>\n",
              "      <th>Do_you_have_Panic_attack?_No</th>\n",
              "      <th>Do_you_have_Panic_attack?_Yes</th>\n",
              "      <th>Did_you_seek_any_specialist_for_a_treatment?_No</th>\n",
              "      <th>Did_you_seek_any_specialist_for_a_treatment?_Yes</th>\n",
              "      <th>CGPA_Category_Average</th>\n",
              "      <th>CGPA_Category_Bad</th>\n",
              "      <th>CGPA_Category_Excellent</th>\n",
              "      <th>CGPA_Category_Fail</th>\n",
              "    </tr>\n",
              "  </thead>\n",
              "  <tbody>\n",
              "    <tr>\n",
              "      <th>0</th>\n",
              "      <td>0</td>\n",
              "      <td>1</td>\n",
              "      <td>1</td>\n",
              "      <td>0</td>\n",
              "      <td>1</td>\n",
              "      <td>0</td>\n",
              "      <td>0</td>\n",
              "      <td>0</td>\n",
              "    </tr>\n",
              "    <tr>\n",
              "      <th>1</th>\n",
              "      <td>1</td>\n",
              "      <td>0</td>\n",
              "      <td>1</td>\n",
              "      <td>0</td>\n",
              "      <td>1</td>\n",
              "      <td>0</td>\n",
              "      <td>0</td>\n",
              "      <td>0</td>\n",
              "    </tr>\n",
              "    <tr>\n",
              "      <th>2</th>\n",
              "      <td>0</td>\n",
              "      <td>1</td>\n",
              "      <td>1</td>\n",
              "      <td>0</td>\n",
              "      <td>1</td>\n",
              "      <td>0</td>\n",
              "      <td>0</td>\n",
              "      <td>0</td>\n",
              "    </tr>\n",
              "    <tr>\n",
              "      <th>3</th>\n",
              "      <td>1</td>\n",
              "      <td>0</td>\n",
              "      <td>1</td>\n",
              "      <td>0</td>\n",
              "      <td>1</td>\n",
              "      <td>0</td>\n",
              "      <td>0</td>\n",
              "      <td>0</td>\n",
              "    </tr>\n",
              "    <tr>\n",
              "      <th>4</th>\n",
              "      <td>1</td>\n",
              "      <td>0</td>\n",
              "      <td>1</td>\n",
              "      <td>0</td>\n",
              "      <td>1</td>\n",
              "      <td>0</td>\n",
              "      <td>0</td>\n",
              "      <td>0</td>\n",
              "    </tr>\n",
              "    <tr>\n",
              "      <th>...</th>\n",
              "      <td>...</td>\n",
              "      <td>...</td>\n",
              "      <td>...</td>\n",
              "      <td>...</td>\n",
              "      <td>...</td>\n",
              "      <td>...</td>\n",
              "      <td>...</td>\n",
              "      <td>...</td>\n",
              "    </tr>\n",
              "    <tr>\n",
              "      <th>96</th>\n",
              "      <td>1</td>\n",
              "      <td>0</td>\n",
              "      <td>1</td>\n",
              "      <td>0</td>\n",
              "      <td>0</td>\n",
              "      <td>0</td>\n",
              "      <td>1</td>\n",
              "      <td>0</td>\n",
              "    </tr>\n",
              "    <tr>\n",
              "      <th>97</th>\n",
              "      <td>1</td>\n",
              "      <td>0</td>\n",
              "      <td>1</td>\n",
              "      <td>0</td>\n",
              "      <td>1</td>\n",
              "      <td>0</td>\n",
              "      <td>0</td>\n",
              "      <td>0</td>\n",
              "    </tr>\n",
              "    <tr>\n",
              "      <th>98</th>\n",
              "      <td>0</td>\n",
              "      <td>1</td>\n",
              "      <td>1</td>\n",
              "      <td>0</td>\n",
              "      <td>0</td>\n",
              "      <td>0</td>\n",
              "      <td>1</td>\n",
              "      <td>0</td>\n",
              "    </tr>\n",
              "    <tr>\n",
              "      <th>99</th>\n",
              "      <td>1</td>\n",
              "      <td>0</td>\n",
              "      <td>1</td>\n",
              "      <td>0</td>\n",
              "      <td>0</td>\n",
              "      <td>0</td>\n",
              "      <td>1</td>\n",
              "      <td>0</td>\n",
              "    </tr>\n",
              "    <tr>\n",
              "      <th>100</th>\n",
              "      <td>1</td>\n",
              "      <td>0</td>\n",
              "      <td>1</td>\n",
              "      <td>0</td>\n",
              "      <td>1</td>\n",
              "      <td>0</td>\n",
              "      <td>0</td>\n",
              "      <td>0</td>\n",
              "    </tr>\n",
              "  </tbody>\n",
              "</table>\n",
              "<p>101 rows × 8 columns</p>\n",
              "</div>"
            ],
            "text/plain": [
              "     Do_you_have_Panic_attack?_No  Do_you_have_Panic_attack?_Yes  \\\n",
              "0                               0                              1   \n",
              "1                               1                              0   \n",
              "2                               0                              1   \n",
              "3                               1                              0   \n",
              "4                               1                              0   \n",
              "..                            ...                            ...   \n",
              "96                              1                              0   \n",
              "97                              1                              0   \n",
              "98                              0                              1   \n",
              "99                              1                              0   \n",
              "100                             1                              0   \n",
              "\n",
              "     Did_you_seek_any_specialist_for_a_treatment?_No  \\\n",
              "0                                                  1   \n",
              "1                                                  1   \n",
              "2                                                  1   \n",
              "3                                                  1   \n",
              "4                                                  1   \n",
              "..                                               ...   \n",
              "96                                                 1   \n",
              "97                                                 1   \n",
              "98                                                 1   \n",
              "99                                                 1   \n",
              "100                                                1   \n",
              "\n",
              "     Did_you_seek_any_specialist_for_a_treatment?_Yes  CGPA_Category_Average  \\\n",
              "0                                                   0                      1   \n",
              "1                                                   0                      1   \n",
              "2                                                   0                      1   \n",
              "3                                                   0                      1   \n",
              "4                                                   0                      1   \n",
              "..                                                ...                    ...   \n",
              "96                                                  0                      0   \n",
              "97                                                  0                      1   \n",
              "98                                                  0                      0   \n",
              "99                                                  0                      0   \n",
              "100                                                 0                      1   \n",
              "\n",
              "     CGPA_Category_Bad  CGPA_Category_Excellent  CGPA_Category_Fail  \n",
              "0                    0                        0                   0  \n",
              "1                    0                        0                   0  \n",
              "2                    0                        0                   0  \n",
              "3                    0                        0                   0  \n",
              "4                    0                        0                   0  \n",
              "..                 ...                      ...                 ...  \n",
              "96                   0                        1                   0  \n",
              "97                   0                        0                   0  \n",
              "98                   0                        1                   0  \n",
              "99                   0                        1                   0  \n",
              "100                  0                        0                   0  \n",
              "\n",
              "[101 rows x 8 columns]"
            ]
          },
          "execution_count": 17,
          "metadata": {},
          "output_type": "execute_result"
        }
      ],
      "source": [
        "c"
      ]
    },
    {
      "cell_type": "code",
      "execution_count": null,
      "id": "28080834",
      "metadata": {
        "id": "28080834",
        "outputId": "1cda338a-be8d-4aed-f262-cc1a26fc95a6"
      },
      "outputs": [
        {
          "data": {
            "text/html": [
              "<div>\n",
              "<style scoped>\n",
              "    .dataframe tbody tr th:only-of-type {\n",
              "        vertical-align: middle;\n",
              "    }\n",
              "\n",
              "    .dataframe tbody tr th {\n",
              "        vertical-align: top;\n",
              "    }\n",
              "\n",
              "    .dataframe thead th {\n",
              "        text-align: right;\n",
              "    }\n",
              "</style>\n",
              "<table border=\"1\" class=\"dataframe\">\n",
              "  <thead>\n",
              "    <tr style=\"text-align: right;\">\n",
              "      <th></th>\n",
              "      <th>Do_you_have_Anxiety?_No</th>\n",
              "      <th>Do_you_have_Anxiety?_Yes</th>\n",
              "      <th>Do_you_have_Panic_attack?_No</th>\n",
              "      <th>Do_you_have_Panic_attack?_Yes</th>\n",
              "      <th>Did_you_seek_any_specialist_for_a_treatment?_No</th>\n",
              "      <th>Did_you_seek_any_specialist_for_a_treatment?_Yes</th>\n",
              "      <th>Do_you_have_Depression?_No</th>\n",
              "      <th>Do_you_have_Depression?_Yes</th>\n",
              "    </tr>\n",
              "  </thead>\n",
              "  <tbody>\n",
              "    <tr>\n",
              "      <th>0</th>\n",
              "      <td>1</td>\n",
              "      <td>0</td>\n",
              "      <td>0</td>\n",
              "      <td>1</td>\n",
              "      <td>1</td>\n",
              "      <td>0</td>\n",
              "      <td>0</td>\n",
              "      <td>1</td>\n",
              "    </tr>\n",
              "    <tr>\n",
              "      <th>1</th>\n",
              "      <td>0</td>\n",
              "      <td>1</td>\n",
              "      <td>1</td>\n",
              "      <td>0</td>\n",
              "      <td>1</td>\n",
              "      <td>0</td>\n",
              "      <td>1</td>\n",
              "      <td>0</td>\n",
              "    </tr>\n",
              "    <tr>\n",
              "      <th>2</th>\n",
              "      <td>0</td>\n",
              "      <td>1</td>\n",
              "      <td>0</td>\n",
              "      <td>1</td>\n",
              "      <td>1</td>\n",
              "      <td>0</td>\n",
              "      <td>0</td>\n",
              "      <td>1</td>\n",
              "    </tr>\n",
              "    <tr>\n",
              "      <th>3</th>\n",
              "      <td>1</td>\n",
              "      <td>0</td>\n",
              "      <td>1</td>\n",
              "      <td>0</td>\n",
              "      <td>1</td>\n",
              "      <td>0</td>\n",
              "      <td>0</td>\n",
              "      <td>1</td>\n",
              "    </tr>\n",
              "    <tr>\n",
              "      <th>4</th>\n",
              "      <td>1</td>\n",
              "      <td>0</td>\n",
              "      <td>1</td>\n",
              "      <td>0</td>\n",
              "      <td>1</td>\n",
              "      <td>0</td>\n",
              "      <td>1</td>\n",
              "      <td>0</td>\n",
              "    </tr>\n",
              "    <tr>\n",
              "      <th>...</th>\n",
              "      <td>...</td>\n",
              "      <td>...</td>\n",
              "      <td>...</td>\n",
              "      <td>...</td>\n",
              "      <td>...</td>\n",
              "      <td>...</td>\n",
              "      <td>...</td>\n",
              "      <td>...</td>\n",
              "    </tr>\n",
              "    <tr>\n",
              "      <th>96</th>\n",
              "      <td>0</td>\n",
              "      <td>1</td>\n",
              "      <td>1</td>\n",
              "      <td>0</td>\n",
              "      <td>1</td>\n",
              "      <td>0</td>\n",
              "      <td>1</td>\n",
              "      <td>0</td>\n",
              "    </tr>\n",
              "    <tr>\n",
              "      <th>97</th>\n",
              "      <td>0</td>\n",
              "      <td>1</td>\n",
              "      <td>1</td>\n",
              "      <td>0</td>\n",
              "      <td>1</td>\n",
              "      <td>0</td>\n",
              "      <td>0</td>\n",
              "      <td>1</td>\n",
              "    </tr>\n",
              "    <tr>\n",
              "      <th>98</th>\n",
              "      <td>1</td>\n",
              "      <td>0</td>\n",
              "      <td>0</td>\n",
              "      <td>1</td>\n",
              "      <td>1</td>\n",
              "      <td>0</td>\n",
              "      <td>0</td>\n",
              "      <td>1</td>\n",
              "    </tr>\n",
              "    <tr>\n",
              "      <th>99</th>\n",
              "      <td>1</td>\n",
              "      <td>0</td>\n",
              "      <td>1</td>\n",
              "      <td>0</td>\n",
              "      <td>1</td>\n",
              "      <td>0</td>\n",
              "      <td>1</td>\n",
              "      <td>0</td>\n",
              "    </tr>\n",
              "    <tr>\n",
              "      <th>100</th>\n",
              "      <td>1</td>\n",
              "      <td>0</td>\n",
              "      <td>1</td>\n",
              "      <td>0</td>\n",
              "      <td>1</td>\n",
              "      <td>0</td>\n",
              "      <td>1</td>\n",
              "      <td>0</td>\n",
              "    </tr>\n",
              "  </tbody>\n",
              "</table>\n",
              "<p>101 rows × 8 columns</p>\n",
              "</div>"
            ],
            "text/plain": [
              "     Do_you_have_Anxiety?_No  Do_you_have_Anxiety?_Yes  \\\n",
              "0                          1                         0   \n",
              "1                          0                         1   \n",
              "2                          0                         1   \n",
              "3                          1                         0   \n",
              "4                          1                         0   \n",
              "..                       ...                       ...   \n",
              "96                         0                         1   \n",
              "97                         0                         1   \n",
              "98                         1                         0   \n",
              "99                         1                         0   \n",
              "100                        1                         0   \n",
              "\n",
              "     Do_you_have_Panic_attack?_No  Do_you_have_Panic_attack?_Yes  \\\n",
              "0                               0                              1   \n",
              "1                               1                              0   \n",
              "2                               0                              1   \n",
              "3                               1                              0   \n",
              "4                               1                              0   \n",
              "..                            ...                            ...   \n",
              "96                              1                              0   \n",
              "97                              1                              0   \n",
              "98                              0                              1   \n",
              "99                              1                              0   \n",
              "100                             1                              0   \n",
              "\n",
              "     Did_you_seek_any_specialist_for_a_treatment?_No  \\\n",
              "0                                                  1   \n",
              "1                                                  1   \n",
              "2                                                  1   \n",
              "3                                                  1   \n",
              "4                                                  1   \n",
              "..                                               ...   \n",
              "96                                                 1   \n",
              "97                                                 1   \n",
              "98                                                 1   \n",
              "99                                                 1   \n",
              "100                                                1   \n",
              "\n",
              "     Did_you_seek_any_specialist_for_a_treatment?_Yes  \\\n",
              "0                                                   0   \n",
              "1                                                   0   \n",
              "2                                                   0   \n",
              "3                                                   0   \n",
              "4                                                   0   \n",
              "..                                                ...   \n",
              "96                                                  0   \n",
              "97                                                  0   \n",
              "98                                                  0   \n",
              "99                                                  0   \n",
              "100                                                 0   \n",
              "\n",
              "     Do_you_have_Depression?_No  Do_you_have_Depression?_Yes  \n",
              "0                             0                            1  \n",
              "1                             1                            0  \n",
              "2                             0                            1  \n",
              "3                             0                            1  \n",
              "4                             1                            0  \n",
              "..                          ...                          ...  \n",
              "96                            1                            0  \n",
              "97                            0                            1  \n",
              "98                            0                            1  \n",
              "99                            1                            0  \n",
              "100                           1                            0  \n",
              "\n",
              "[101 rows x 8 columns]"
            ]
          },
          "execution_count": 18,
          "metadata": {},
          "output_type": "execute_result"
        }
      ],
      "source": [
        "d"
      ]
    },
    {
      "cell_type": "code",
      "execution_count": null,
      "id": "a9108f6f",
      "metadata": {
        "id": "a9108f6f",
        "outputId": "39992112-8d6a-45f2-b43f-c3191f80d597"
      },
      "outputs": [
        {
          "data": {
            "text/plain": [
              "array([[1, 0, 0, 1],\n",
              "       [0, 0, 0, 0],\n",
              "       [1, 0, 0, 1],\n",
              "       [0, 0, 1, 1],\n",
              "       [0, 0, 0, 0],\n",
              "       [1, 0, 0, 0],\n",
              "       [1, 0, 1, 1],\n",
              "       [0, 0, 0, 0],\n",
              "       [0, 0, 0, 0],\n",
              "       [1, 0, 0, 0],\n",
              "       [0, 0, 0, 0],\n",
              "       [0, 0, 1, 1],\n",
              "       [0, 0, 0, 1],\n",
              "       [0, 0, 0, 0],\n",
              "       [0, 0, 0, 0],\n",
              "       [0, 0, 0, 0],\n",
              "       [0, 0, 0, 0],\n",
              "       [1, 0, 1, 1],\n",
              "       [0, 0, 0, 0],\n",
              "       [1, 0, 1, 1],\n",
              "       [1, 0, 0, 0],\n",
              "       [0, 0, 0, 0],\n",
              "       [0, 0, 0, 0],\n",
              "       [0, 0, 0, 0],\n",
              "       [1, 0, 0, 1],\n",
              "       [0, 0, 0, 0],\n",
              "       [0, 0, 0, 0],\n",
              "       [0, 0, 1, 1],\n",
              "       [1, 1, 1, 1],\n",
              "       [0, 0, 0, 0],\n",
              "       [0, 0, 0, 0],\n",
              "       [0, 0, 0, 0],\n",
              "       [1, 0, 0, 0],\n",
              "       [0, 1, 1, 1],\n",
              "       [1, 0, 0, 1],\n",
              "       [0, 0, 0, 0],\n",
              "       [0, 0, 0, 1],\n",
              "       [1, 0, 0, 1],\n",
              "       [0, 0, 0, 0],\n",
              "       [1, 1, 1, 1],\n",
              "       [0, 0, 0, 0],\n",
              "       [0, 0, 0, 0],\n",
              "       [0, 0, 0, 1],\n",
              "       [0, 0, 0, 0],\n",
              "       [1, 0, 0, 0],\n",
              "       [1, 0, 0, 0],\n",
              "       [0, 0, 0, 0],\n",
              "       [0, 0, 0, 0],\n",
              "       [0, 0, 0, 1],\n",
              "       [1, 0, 0, 0],\n",
              "       [1, 1, 1, 1],\n",
              "       [0, 0, 0, 0],\n",
              "       [0, 0, 0, 0],\n",
              "       [1, 0, 1, 1],\n",
              "       [1, 1, 0, 1],\n",
              "       [0, 0, 0, 0],\n",
              "       [0, 0, 0, 0],\n",
              "       [0, 0, 0, 1],\n",
              "       [0, 0, 0, 0],\n",
              "       [0, 0, 0, 0],\n",
              "       [1, 0, 0, 0],\n",
              "       [0, 0, 0, 0],\n",
              "       [1, 0, 0, 0],\n",
              "       [1, 0, 0, 0],\n",
              "       [0, 0, 0, 0],\n",
              "       [0, 0, 0, 1],\n",
              "       [0, 0, 0, 0],\n",
              "       [1, 0, 1, 1],\n",
              "       [0, 0, 0, 1],\n",
              "       [0, 0, 0, 0],\n",
              "       [0, 0, 0, 0],\n",
              "       [1, 0, 0, 0],\n",
              "       [0, 0, 1, 1],\n",
              "       [0, 0, 0, 0],\n",
              "       [0, 0, 0, 0],\n",
              "       [1, 0, 0, 0],\n",
              "       [0, 0, 0, 1],\n",
              "       [1, 0, 0, 0],\n",
              "       [0, 0, 0, 0],\n",
              "       [0, 0, 0, 0],\n",
              "       [1, 0, 1, 1],\n",
              "       [0, 0, 0, 0],\n",
              "       [0, 0, 0, 1],\n",
              "       [0, 0, 0, 0],\n",
              "       [0, 0, 0, 0],\n",
              "       [0, 1, 0, 1],\n",
              "       [0, 0, 0, 0],\n",
              "       [1, 0, 0, 1],\n",
              "       [0, 0, 0, 0],\n",
              "       [1, 0, 0, 0],\n",
              "       [1, 0, 0, 0],\n",
              "       [0, 0, 0, 0],\n",
              "       [0, 0, 1, 1],\n",
              "       [0, 0, 0, 1],\n",
              "       [1, 0, 0, 0],\n",
              "       [0, 0, 0, 0],\n",
              "       [0, 0, 0, 0],\n",
              "       [0, 0, 0, 1],\n",
              "       [1, 0, 1, 1],\n",
              "       [0, 0, 0, 0],\n",
              "       [0, 0, 0, 0]])"
            ]
          },
          "execution_count": 19,
          "metadata": {},
          "output_type": "execute_result"
        }
      ],
      "source": [
        "m"
      ]
    },
    {
      "cell_type": "code",
      "execution_count": null,
      "id": "5f8d4c79",
      "metadata": {
        "id": "5f8d4c79",
        "outputId": "2c637622-677a-465f-ca19-b8a03c6db8ca"
      },
      "outputs": [
        {
          "data": {
            "text/plain": [
              "(101, 4)"
            ]
          },
          "execution_count": 20,
          "metadata": {},
          "output_type": "execute_result"
        }
      ],
      "source": [
        "m.shape"
      ]
    },
    {
      "cell_type": "code",
      "execution_count": null,
      "id": "6529b549",
      "metadata": {
        "id": "6529b549"
      },
      "outputs": [],
      "source": [
        "m = pd.DataFrame(m, columns = ['Do_you_have_Panic_attack?','Did_you_seek_any_specialist_for_a_treatment?','Do_you_have_Depression?','Marital_status'])"
      ]
    },
    {
      "cell_type": "code",
      "execution_count": null,
      "id": "c6afbb18",
      "metadata": {
        "scrolled": true,
        "id": "c6afbb18"
      },
      "outputs": [],
      "source": [
        "\n",
        "s = pd.DataFrame(s, \n",
        "                \n",
        "                 columns = ['Marital_status','Your_current_year_of_Study_1','Your_current_year_of_Study_2','Your_current_year_of_Study_3'])\n",
        "#  index=[\"col1\", \"col2\", \"col3\", \"col4\"], # <--- more items added\n",
        "#     columns=[\"col1\", \"col2\", \"col3\", \"col4\"]"
      ]
    },
    {
      "cell_type": "code",
      "execution_count": null,
      "id": "06a2a4f0",
      "metadata": {
        "id": "06a2a4f0"
      },
      "outputs": [],
      "source": []
    },
    {
      "cell_type": "code",
      "execution_count": null,
      "id": "b009f0ab",
      "metadata": {
        "id": "b009f0ab"
      },
      "outputs": [],
      "source": []
    },
    {
      "cell_type": "code",
      "execution_count": null,
      "id": "19c6bffb",
      "metadata": {
        "id": "19c6bffb"
      },
      "outputs": [],
      "source": []
    },
    {
      "cell_type": "code",
      "execution_count": null,
      "id": "409944de",
      "metadata": {
        "id": "409944de"
      },
      "outputs": [],
      "source": []
    },
    {
      "cell_type": "code",
      "execution_count": null,
      "id": "ba3b2b4b",
      "metadata": {
        "id": "ba3b2b4b"
      },
      "outputs": [],
      "source": []
    },
    {
      "cell_type": "code",
      "execution_count": null,
      "id": "10b7d6f7",
      "metadata": {
        "id": "10b7d6f7"
      },
      "outputs": [],
      "source": []
    },
    {
      "cell_type": "code",
      "execution_count": null,
      "id": "5df2ae44",
      "metadata": {
        "id": "5df2ae44"
      },
      "outputs": [],
      "source": [
        "c[\"CGPA_Category\"] = c['CGPA_Category_Average'].astype(str) + c['CGPA_Category_Bad'].astype(str)+ c['CGPA_Category_Excellent'].astype(str)+ c['CGPA_Category_Fail'].astype(str)\n",
        "d[\"Do_you_have_Depression?\"] = d['Do_you_have_Depression?_Yes'].astype(str) + d['Do_you_have_Depression?_No'].astype(str)\n",
        "# m[\"Do_you_have_Depression?\"] = m['Do_you_have_Depression?_Yes'].astype(str) + m['Do_you_have_Depression?_No'].astype(str)\n",
        "s[\"Your_current_year_of_Study\"] = s['Your_current_year_of_Study_1'].astype(str) + s['Your_current_year_of_Study_2'].astype(str) + s['Your_current_year_of_Study_3'].astype(str) \n"
      ]
    },
    {
      "cell_type": "code",
      "execution_count": null,
      "id": "b2b76ad3",
      "metadata": {
        "id": "b2b76ad3"
      },
      "outputs": [],
      "source": []
    },
    {
      "cell_type": "code",
      "execution_count": null,
      "id": "92af5d71",
      "metadata": {
        "id": "92af5d71"
      },
      "outputs": [],
      "source": []
    },
    {
      "cell_type": "code",
      "execution_count": null,
      "id": "308e4ee0",
      "metadata": {
        "id": "308e4ee0"
      },
      "outputs": [],
      "source": []
    },
    {
      "cell_type": "code",
      "execution_count": null,
      "id": "20f4a1a3",
      "metadata": {
        "id": "20f4a1a3"
      },
      "outputs": [],
      "source": []
    },
    {
      "cell_type": "code",
      "execution_count": null,
      "id": "74a217d5",
      "metadata": {
        "id": "74a217d5"
      },
      "outputs": [],
      "source": [
        "# Average-Bad-Excellent-Fail"
      ]
    },
    {
      "cell_type": "code",
      "execution_count": null,
      "id": "9d5a1e9e",
      "metadata": {
        "id": "9d5a1e9e",
        "outputId": "2af13b5e-ba54-43ab-8421-b1b2dfe8c128"
      },
      "outputs": [
        {
          "data": {
            "text/html": [
              "<div>\n",
              "<style scoped>\n",
              "    .dataframe tbody tr th:only-of-type {\n",
              "        vertical-align: middle;\n",
              "    }\n",
              "\n",
              "    .dataframe tbody tr th {\n",
              "        vertical-align: top;\n",
              "    }\n",
              "\n",
              "    .dataframe thead th {\n",
              "        text-align: right;\n",
              "    }\n",
              "</style>\n",
              "<table border=\"1\" class=\"dataframe\">\n",
              "  <thead>\n",
              "    <tr style=\"text-align: right;\">\n",
              "      <th></th>\n",
              "      <th>Do_you_have_Panic_attack?</th>\n",
              "      <th>Did_you_seek_any_specialist_for_a_treatment?</th>\n",
              "      <th>Do_you_have_Depression?</th>\n",
              "      <th>Marital_status</th>\n",
              "    </tr>\n",
              "  </thead>\n",
              "  <tbody>\n",
              "    <tr>\n",
              "      <th>0</th>\n",
              "      <td>1</td>\n",
              "      <td>0</td>\n",
              "      <td>0</td>\n",
              "      <td>1</td>\n",
              "    </tr>\n",
              "    <tr>\n",
              "      <th>1</th>\n",
              "      <td>0</td>\n",
              "      <td>0</td>\n",
              "      <td>0</td>\n",
              "      <td>0</td>\n",
              "    </tr>\n",
              "    <tr>\n",
              "      <th>2</th>\n",
              "      <td>1</td>\n",
              "      <td>0</td>\n",
              "      <td>0</td>\n",
              "      <td>1</td>\n",
              "    </tr>\n",
              "    <tr>\n",
              "      <th>3</th>\n",
              "      <td>0</td>\n",
              "      <td>0</td>\n",
              "      <td>1</td>\n",
              "      <td>1</td>\n",
              "    </tr>\n",
              "    <tr>\n",
              "      <th>4</th>\n",
              "      <td>0</td>\n",
              "      <td>0</td>\n",
              "      <td>0</td>\n",
              "      <td>0</td>\n",
              "    </tr>\n",
              "    <tr>\n",
              "      <th>...</th>\n",
              "      <td>...</td>\n",
              "      <td>...</td>\n",
              "      <td>...</td>\n",
              "      <td>...</td>\n",
              "    </tr>\n",
              "    <tr>\n",
              "      <th>96</th>\n",
              "      <td>0</td>\n",
              "      <td>0</td>\n",
              "      <td>0</td>\n",
              "      <td>0</td>\n",
              "    </tr>\n",
              "    <tr>\n",
              "      <th>97</th>\n",
              "      <td>0</td>\n",
              "      <td>0</td>\n",
              "      <td>0</td>\n",
              "      <td>1</td>\n",
              "    </tr>\n",
              "    <tr>\n",
              "      <th>98</th>\n",
              "      <td>1</td>\n",
              "      <td>0</td>\n",
              "      <td>1</td>\n",
              "      <td>1</td>\n",
              "    </tr>\n",
              "    <tr>\n",
              "      <th>99</th>\n",
              "      <td>0</td>\n",
              "      <td>0</td>\n",
              "      <td>0</td>\n",
              "      <td>0</td>\n",
              "    </tr>\n",
              "    <tr>\n",
              "      <th>100</th>\n",
              "      <td>0</td>\n",
              "      <td>0</td>\n",
              "      <td>0</td>\n",
              "      <td>0</td>\n",
              "    </tr>\n",
              "  </tbody>\n",
              "</table>\n",
              "<p>101 rows × 4 columns</p>\n",
              "</div>"
            ],
            "text/plain": [
              "     Do_you_have_Panic_attack?  Did_you_seek_any_specialist_for_a_treatment?  \\\n",
              "0                            1                                             0   \n",
              "1                            0                                             0   \n",
              "2                            1                                             0   \n",
              "3                            0                                             0   \n",
              "4                            0                                             0   \n",
              "..                         ...                                           ...   \n",
              "96                           0                                             0   \n",
              "97                           0                                             0   \n",
              "98                           1                                             0   \n",
              "99                           0                                             0   \n",
              "100                          0                                             0   \n",
              "\n",
              "     Do_you_have_Depression?  Marital_status  \n",
              "0                          0               1  \n",
              "1                          0               0  \n",
              "2                          0               1  \n",
              "3                          1               1  \n",
              "4                          0               0  \n",
              "..                       ...             ...  \n",
              "96                         0               0  \n",
              "97                         0               1  \n",
              "98                         1               1  \n",
              "99                         0               0  \n",
              "100                        0               0  \n",
              "\n",
              "[101 rows x 4 columns]"
            ]
          },
          "execution_count": 25,
          "metadata": {},
          "output_type": "execute_result"
        }
      ],
      "source": [
        "m"
      ]
    },
    {
      "cell_type": "code",
      "execution_count": null,
      "id": "c51bf669",
      "metadata": {
        "id": "c51bf669",
        "outputId": "5a6a3e9d-9023-4e46-a452-680e431bd0d7"
      },
      "outputs": [
        {
          "data": {
            "text/html": [
              "<div>\n",
              "<style scoped>\n",
              "    .dataframe tbody tr th:only-of-type {\n",
              "        vertical-align: middle;\n",
              "    }\n",
              "\n",
              "    .dataframe tbody tr th {\n",
              "        vertical-align: top;\n",
              "    }\n",
              "\n",
              "    .dataframe thead th {\n",
              "        text-align: right;\n",
              "    }\n",
              "</style>\n",
              "<table border=\"1\" class=\"dataframe\">\n",
              "  <thead>\n",
              "    <tr style=\"text-align: right;\">\n",
              "      <th></th>\n",
              "      <th>Marital_status</th>\n",
              "      <th>Your_current_year_of_Study_1</th>\n",
              "      <th>Your_current_year_of_Study_2</th>\n",
              "      <th>Your_current_year_of_Study_3</th>\n",
              "      <th>Your_current_year_of_Study</th>\n",
              "    </tr>\n",
              "  </thead>\n",
              "  <tbody>\n",
              "    <tr>\n",
              "      <th>0</th>\n",
              "      <td>0</td>\n",
              "      <td>0</td>\n",
              "      <td>0</td>\n",
              "      <td>0</td>\n",
              "      <td>000</td>\n",
              "    </tr>\n",
              "    <tr>\n",
              "      <th>1</th>\n",
              "      <td>0</td>\n",
              "      <td>1</td>\n",
              "      <td>0</td>\n",
              "      <td>0</td>\n",
              "      <td>100</td>\n",
              "    </tr>\n",
              "    <tr>\n",
              "      <th>2</th>\n",
              "      <td>1</td>\n",
              "      <td>0</td>\n",
              "      <td>1</td>\n",
              "      <td>0</td>\n",
              "      <td>010</td>\n",
              "    </tr>\n",
              "    <tr>\n",
              "      <th>3</th>\n",
              "      <td>0</td>\n",
              "      <td>0</td>\n",
              "      <td>0</td>\n",
              "      <td>1</td>\n",
              "      <td>001</td>\n",
              "    </tr>\n",
              "    <tr>\n",
              "      <th>4</th>\n",
              "      <td>1</td>\n",
              "      <td>1</td>\n",
              "      <td>0</td>\n",
              "      <td>0</td>\n",
              "      <td>100</td>\n",
              "    </tr>\n",
              "    <tr>\n",
              "      <th>5</th>\n",
              "      <td>0</td>\n",
              "      <td>0</td>\n",
              "      <td>1</td>\n",
              "      <td>0</td>\n",
              "      <td>010</td>\n",
              "    </tr>\n",
              "    <tr>\n",
              "      <th>6</th>\n",
              "      <td>1</td>\n",
              "      <td>0</td>\n",
              "      <td>0</td>\n",
              "      <td>1</td>\n",
              "      <td>001</td>\n",
              "    </tr>\n",
              "    <tr>\n",
              "      <th>7</th>\n",
              "      <td>1</td>\n",
              "      <td>0</td>\n",
              "      <td>0</td>\n",
              "      <td>0</td>\n",
              "      <td>000</td>\n",
              "    </tr>\n",
              "  </tbody>\n",
              "</table>\n",
              "</div>"
            ],
            "text/plain": [
              "   Marital_status  Your_current_year_of_Study_1  Your_current_year_of_Study_2  \\\n",
              "0               0                             0                             0   \n",
              "1               0                             1                             0   \n",
              "2               1                             0                             1   \n",
              "3               0                             0                             0   \n",
              "4               1                             1                             0   \n",
              "5               0                             0                             1   \n",
              "6               1                             0                             0   \n",
              "7               1                             0                             0   \n",
              "\n",
              "   Your_current_year_of_Study_3 Your_current_year_of_Study  \n",
              "0                             0                        000  \n",
              "1                             0                        100  \n",
              "2                             0                        010  \n",
              "3                             1                        001  \n",
              "4                             0                        100  \n",
              "5                             0                        010  \n",
              "6                             1                        001  \n",
              "7                             0                        000  "
            ]
          },
          "execution_count": 26,
          "metadata": {},
          "output_type": "execute_result"
        }
      ],
      "source": [
        "s"
      ]
    },
    {
      "cell_type": "code",
      "execution_count": null,
      "id": "582db345",
      "metadata": {
        "id": "582db345",
        "outputId": "95d4a9d6-b670-4bb8-9ed5-c699952d6cb0"
      },
      "outputs": [
        {
          "name": "stdout",
          "output_type": "stream",
          "text": [
            "<class 'pandas.core.frame.DataFrame'>\n",
            "RangeIndex: 8 entries, 0 to 7\n",
            "Data columns (total 5 columns):\n",
            " #   Column                        Non-Null Count  Dtype \n",
            "---  ------                        --------------  ----- \n",
            " 0   Marital_status                8 non-null      int32 \n",
            " 1   Your_current_year_of_Study_1  8 non-null      int32 \n",
            " 2   Your_current_year_of_Study_2  8 non-null      int32 \n",
            " 3   Your_current_year_of_Study_3  8 non-null      int32 \n",
            " 4   Your_current_year_of_Study    8 non-null      object\n",
            "dtypes: int32(4), object(1)\n",
            "memory usage: 320.0+ bytes\n"
          ]
        }
      ],
      "source": [
        "s.info()"
      ]
    },
    {
      "cell_type": "code",
      "execution_count": null,
      "id": "4afbfb1a",
      "metadata": {
        "id": "4afbfb1a"
      },
      "outputs": [],
      "source": [
        "# df.drop(['B', 'C'], axis=1)\n",
        "# df.drop(columns=['B', 'C'])"
      ]
    },
    {
      "cell_type": "code",
      "execution_count": null,
      "id": "a533ac44",
      "metadata": {
        "id": "a533ac44"
      },
      "outputs": [],
      "source": [
        "from sklearn.model_selection import train_test_split\n",
        "X_train_c,X_test_c,y_train_c,y_test_c = train_test_split(c.drop(['CGPA_Category_Average','CGPA_Category_Bad','CGPA_Category_Excellent','CGPA_Category_Fail','CGPA_Category'],axis=1),\n",
        "                                                 c['CGPA_Category'],\n",
        "                                                 test_size=0.2,\n",
        "                                                random_state=42)\n",
        "\n",
        "X_train_d,X_test_d,y_train_d,y_test_d = train_test_split(d.drop(columns=['Do_you_have_Depression?','Do_you_have_Depression?_Yes','Do_you_have_Depression?_No']),\n",
        "                                                 d['Do_you_have_Depression?'],\n",
        "                                                 test_size=0.2,\n",
        "                                                random_state=42)\n",
        "\n",
        "\n",
        "# X_train_m,X_test_m,y_train_m,y_test_m = train_test_split(m.drop(columns=['Do_you_have_Depression?']),\n",
        "#                                                  m['Do_you_have_Depression?'],\n",
        "#                                                  test_size=0.2,\n",
        "#                                                 random_state=42)\n",
        "\n",
        "\n",
        "X_train_m,X_test_m,y_train_m,y_test_m = train_test_split(m.drop(['Marital_status'],\n",
        "                                                                axis=1),\n",
        "                                                 m['Marital_status'],\n",
        "                                                 test_size=0.2,\n",
        "                                                random_state=42)\n",
        "\n",
        "X_train_s,X_test_s,y_train_s,y_test_s = train_test_split(s.drop(['Your_current_year_of_Study_1','Your_current_year_of_Study_2','Your_current_year_of_Study_3'],\n",
        "                                                                axis=1),\n",
        "                                                 s['Your_current_year_of_Study'],\n",
        "                                                 test_size=0.2,\n",
        "                                                random_state=42)"
      ]
    },
    {
      "cell_type": "code",
      "execution_count": null,
      "id": "dfc5a567",
      "metadata": {
        "id": "dfc5a567",
        "outputId": "c7d3bdb9-efb6-4196-9c6e-f0a378943c73"
      },
      "outputs": [
        {
          "data": {
            "text/plain": [
              "(21, 3)"
            ]
          },
          "execution_count": 30,
          "metadata": {},
          "output_type": "execute_result"
        }
      ],
      "source": [
        "X_test_m.shape\n",
        "\n"
      ]
    },
    {
      "cell_type": "code",
      "execution_count": null,
      "id": "ce77b6ba",
      "metadata": {
        "id": "ce77b6ba",
        "outputId": "adaa6e25-1a5f-4a57-dae6-d68b1347d0b2"
      },
      "outputs": [
        {
          "data": {
            "text/plain": [
              "(80, 3)"
            ]
          },
          "execution_count": 31,
          "metadata": {},
          "output_type": "execute_result"
        }
      ],
      "source": [
        "X_train_m.shape"
      ]
    },
    {
      "cell_type": "code",
      "execution_count": null,
      "id": "c632e8a1",
      "metadata": {
        "id": "c632e8a1",
        "outputId": "6ed106cd-4f95-4482-83fc-9c46202e66f3"
      },
      "outputs": [
        {
          "data": {
            "text/html": [
              "<div>\n",
              "<style scoped>\n",
              "    .dataframe tbody tr th:only-of-type {\n",
              "        vertical-align: middle;\n",
              "    }\n",
              "\n",
              "    .dataframe tbody tr th {\n",
              "        vertical-align: top;\n",
              "    }\n",
              "\n",
              "    .dataframe thead th {\n",
              "        text-align: right;\n",
              "    }\n",
              "</style>\n",
              "<table border=\"1\" class=\"dataframe\">\n",
              "  <thead>\n",
              "    <tr style=\"text-align: right;\">\n",
              "      <th></th>\n",
              "      <th>Do_you_have_Panic_attack?</th>\n",
              "      <th>Did_you_seek_any_specialist_for_a_treatment?</th>\n",
              "      <th>Do_you_have_Depression?</th>\n",
              "    </tr>\n",
              "  </thead>\n",
              "  <tbody>\n",
              "    <tr>\n",
              "      <th>84</th>\n",
              "      <td>0</td>\n",
              "      <td>0</td>\n",
              "      <td>0</td>\n",
              "    </tr>\n",
              "    <tr>\n",
              "      <th>55</th>\n",
              "      <td>0</td>\n",
              "      <td>0</td>\n",
              "      <td>0</td>\n",
              "    </tr>\n",
              "    <tr>\n",
              "      <th>66</th>\n",
              "      <td>0</td>\n",
              "      <td>0</td>\n",
              "      <td>0</td>\n",
              "    </tr>\n",
              "    <tr>\n",
              "      <th>67</th>\n",
              "      <td>1</td>\n",
              "      <td>0</td>\n",
              "      <td>1</td>\n",
              "    </tr>\n",
              "    <tr>\n",
              "      <th>45</th>\n",
              "      <td>1</td>\n",
              "      <td>0</td>\n",
              "      <td>0</td>\n",
              "    </tr>\n",
              "    <tr>\n",
              "      <th>39</th>\n",
              "      <td>1</td>\n",
              "      <td>1</td>\n",
              "      <td>1</td>\n",
              "    </tr>\n",
              "    <tr>\n",
              "      <th>22</th>\n",
              "      <td>0</td>\n",
              "      <td>0</td>\n",
              "      <td>0</td>\n",
              "    </tr>\n",
              "    <tr>\n",
              "      <th>44</th>\n",
              "      <td>1</td>\n",
              "      <td>0</td>\n",
              "      <td>0</td>\n",
              "    </tr>\n",
              "    <tr>\n",
              "      <th>10</th>\n",
              "      <td>0</td>\n",
              "      <td>0</td>\n",
              "      <td>0</td>\n",
              "    </tr>\n",
              "    <tr>\n",
              "      <th>0</th>\n",
              "      <td>1</td>\n",
              "      <td>0</td>\n",
              "      <td>0</td>\n",
              "    </tr>\n",
              "    <tr>\n",
              "      <th>18</th>\n",
              "      <td>0</td>\n",
              "      <td>0</td>\n",
              "      <td>0</td>\n",
              "    </tr>\n",
              "    <tr>\n",
              "      <th>30</th>\n",
              "      <td>0</td>\n",
              "      <td>0</td>\n",
              "      <td>0</td>\n",
              "    </tr>\n",
              "    <tr>\n",
              "      <th>97</th>\n",
              "      <td>0</td>\n",
              "      <td>0</td>\n",
              "      <td>0</td>\n",
              "    </tr>\n",
              "    <tr>\n",
              "      <th>33</th>\n",
              "      <td>0</td>\n",
              "      <td>1</td>\n",
              "      <td>1</td>\n",
              "    </tr>\n",
              "    <tr>\n",
              "      <th>77</th>\n",
              "      <td>1</td>\n",
              "      <td>0</td>\n",
              "      <td>0</td>\n",
              "    </tr>\n",
              "    <tr>\n",
              "      <th>4</th>\n",
              "      <td>0</td>\n",
              "      <td>0</td>\n",
              "      <td>0</td>\n",
              "    </tr>\n",
              "    <tr>\n",
              "      <th>93</th>\n",
              "      <td>0</td>\n",
              "      <td>0</td>\n",
              "      <td>0</td>\n",
              "    </tr>\n",
              "    <tr>\n",
              "      <th>78</th>\n",
              "      <td>0</td>\n",
              "      <td>0</td>\n",
              "      <td>0</td>\n",
              "    </tr>\n",
              "    <tr>\n",
              "      <th>12</th>\n",
              "      <td>0</td>\n",
              "      <td>0</td>\n",
              "      <td>0</td>\n",
              "    </tr>\n",
              "    <tr>\n",
              "      <th>31</th>\n",
              "      <td>0</td>\n",
              "      <td>0</td>\n",
              "      <td>0</td>\n",
              "    </tr>\n",
              "    <tr>\n",
              "      <th>76</th>\n",
              "      <td>0</td>\n",
              "      <td>0</td>\n",
              "      <td>0</td>\n",
              "    </tr>\n",
              "  </tbody>\n",
              "</table>\n",
              "</div>"
            ],
            "text/plain": [
              "    Do_you_have_Panic_attack?  Did_you_seek_any_specialist_for_a_treatment?  \\\n",
              "84                          0                                             0   \n",
              "55                          0                                             0   \n",
              "66                          0                                             0   \n",
              "67                          1                                             0   \n",
              "45                          1                                             0   \n",
              "39                          1                                             1   \n",
              "22                          0                                             0   \n",
              "44                          1                                             0   \n",
              "10                          0                                             0   \n",
              "0                           1                                             0   \n",
              "18                          0                                             0   \n",
              "30                          0                                             0   \n",
              "97                          0                                             0   \n",
              "33                          0                                             1   \n",
              "77                          1                                             0   \n",
              "4                           0                                             0   \n",
              "93                          0                                             0   \n",
              "78                          0                                             0   \n",
              "12                          0                                             0   \n",
              "31                          0                                             0   \n",
              "76                          0                                             0   \n",
              "\n",
              "    Do_you_have_Depression?  \n",
              "84                        0  \n",
              "55                        0  \n",
              "66                        0  \n",
              "67                        1  \n",
              "45                        0  \n",
              "39                        1  \n",
              "22                        0  \n",
              "44                        0  \n",
              "10                        0  \n",
              "0                         0  \n",
              "18                        0  \n",
              "30                        0  \n",
              "97                        0  \n",
              "33                        1  \n",
              "77                        0  \n",
              "4                         0  \n",
              "93                        0  \n",
              "78                        0  \n",
              "12                        0  \n",
              "31                        0  \n",
              "76                        0  "
            ]
          },
          "execution_count": 32,
          "metadata": {},
          "output_type": "execute_result"
        }
      ],
      "source": [
        "X_test_m"
      ]
    },
    {
      "cell_type": "code",
      "execution_count": null,
      "id": "95b74c3f",
      "metadata": {
        "id": "95b74c3f",
        "outputId": "1862b1d0-eead-44eb-b470-7a5c100e8c74"
      },
      "outputs": [
        {
          "data": {
            "text/html": [
              "<div>\n",
              "<style scoped>\n",
              "    .dataframe tbody tr th:only-of-type {\n",
              "        vertical-align: middle;\n",
              "    }\n",
              "\n",
              "    .dataframe tbody tr th {\n",
              "        vertical-align: top;\n",
              "    }\n",
              "\n",
              "    .dataframe thead th {\n",
              "        text-align: right;\n",
              "    }\n",
              "</style>\n",
              "<table border=\"1\" class=\"dataframe\">\n",
              "  <thead>\n",
              "    <tr style=\"text-align: right;\">\n",
              "      <th></th>\n",
              "      <th>Do_you_have_Panic_attack?</th>\n",
              "      <th>Did_you_seek_any_specialist_for_a_treatment?</th>\n",
              "      <th>Do_you_have_Depression?</th>\n",
              "    </tr>\n",
              "  </thead>\n",
              "  <tbody>\n",
              "    <tr>\n",
              "      <th>89</th>\n",
              "      <td>1</td>\n",
              "      <td>0</td>\n",
              "      <td>0</td>\n",
              "    </tr>\n",
              "    <tr>\n",
              "      <th>26</th>\n",
              "      <td>0</td>\n",
              "      <td>0</td>\n",
              "      <td>0</td>\n",
              "    </tr>\n",
              "    <tr>\n",
              "      <th>42</th>\n",
              "      <td>0</td>\n",
              "      <td>0</td>\n",
              "      <td>0</td>\n",
              "    </tr>\n",
              "    <tr>\n",
              "      <th>70</th>\n",
              "      <td>0</td>\n",
              "      <td>0</td>\n",
              "      <td>0</td>\n",
              "    </tr>\n",
              "    <tr>\n",
              "      <th>15</th>\n",
              "      <td>0</td>\n",
              "      <td>0</td>\n",
              "      <td>0</td>\n",
              "    </tr>\n",
              "    <tr>\n",
              "      <th>...</th>\n",
              "      <td>...</td>\n",
              "      <td>...</td>\n",
              "      <td>...</td>\n",
              "    </tr>\n",
              "    <tr>\n",
              "      <th>60</th>\n",
              "      <td>1</td>\n",
              "      <td>0</td>\n",
              "      <td>0</td>\n",
              "    </tr>\n",
              "    <tr>\n",
              "      <th>71</th>\n",
              "      <td>1</td>\n",
              "      <td>0</td>\n",
              "      <td>0</td>\n",
              "    </tr>\n",
              "    <tr>\n",
              "      <th>14</th>\n",
              "      <td>0</td>\n",
              "      <td>0</td>\n",
              "      <td>0</td>\n",
              "    </tr>\n",
              "    <tr>\n",
              "      <th>92</th>\n",
              "      <td>0</td>\n",
              "      <td>0</td>\n",
              "      <td>1</td>\n",
              "    </tr>\n",
              "    <tr>\n",
              "      <th>51</th>\n",
              "      <td>0</td>\n",
              "      <td>0</td>\n",
              "      <td>0</td>\n",
              "    </tr>\n",
              "  </tbody>\n",
              "</table>\n",
              "<p>80 rows × 3 columns</p>\n",
              "</div>"
            ],
            "text/plain": [
              "    Do_you_have_Panic_attack?  Did_you_seek_any_specialist_for_a_treatment?  \\\n",
              "89                          1                                             0   \n",
              "26                          0                                             0   \n",
              "42                          0                                             0   \n",
              "70                          0                                             0   \n",
              "15                          0                                             0   \n",
              "..                        ...                                           ...   \n",
              "60                          1                                             0   \n",
              "71                          1                                             0   \n",
              "14                          0                                             0   \n",
              "92                          0                                             0   \n",
              "51                          0                                             0   \n",
              "\n",
              "    Do_you_have_Depression?  \n",
              "89                        0  \n",
              "26                        0  \n",
              "42                        0  \n",
              "70                        0  \n",
              "15                        0  \n",
              "..                      ...  \n",
              "60                        0  \n",
              "71                        0  \n",
              "14                        0  \n",
              "92                        1  \n",
              "51                        0  \n",
              "\n",
              "[80 rows x 3 columns]"
            ]
          },
          "execution_count": 33,
          "metadata": {},
          "output_type": "execute_result"
        }
      ],
      "source": [
        "X_train_m"
      ]
    },
    {
      "cell_type": "code",
      "execution_count": null,
      "id": "11308ffa",
      "metadata": {
        "id": "11308ffa"
      },
      "outputs": [],
      "source": [
        "# from sklearn.preprocessing import OneHotEncoder\n",
        "# oneh = OneHotEncoder(handle_unknown='ignore')\n",
        "# X = [['Do_you_have_Depression?_Yes', 0], ['Do_you_have_Depression?_No', 1]]\n",
        "# oneh.fit(X)\n",
        "# # oneh.transform([['Female', 1], ['Male', 4]]).toarray()\n",
        "# oneh.transform([['Female', 1], ['Male', 4]])\n",
        "\n",
        "\n",
        "\n",
        "\n",
        "\n",
        "# oneh = OneHotEncoder(handle_unknown=\"ignore\")\n",
        "# oneh.fit(train_data[features])\n",
        "# X_test = oneh.transform(test_data[features])"
      ]
    },
    {
      "cell_type": "code",
      "execution_count": null,
      "id": "f33389c2",
      "metadata": {
        "id": "f33389c2"
      },
      "outputs": [],
      "source": [
        "# ohe = OneHotEncoder(drop='first',sparse=False,dtype=np.int32)\n",
        "\n",
        "# X_train_new_c = ohe.fit_transform(X_train_c[['Do_you_have_Panic_attack?_Yes','Do_you_have_Panic_attack?_No',\n",
        "#                                              'Did_you_seek_any_specialist_for_a_treatment?_Yes','Did_you_seek_any_specialist_for_a_treatment?_No'\n",
        "#                                             ]])\n",
        "# X_test_new_c = ohe.transform(X_test_c[['Do_you_have_Panic_attack?_Yes','Do_you_have_Panic_attack?_No',\n",
        "#                                              'Did_you_seek_any_specialist_for_a_treatment?_Yes','Did_you_seek_any_specialist_for_a_treatment?_No'\n",
        "#                                             ]])\n",
        "# y_train_new_c =ohe.transform(y_train_c['CGPA_Category'])\n",
        "# y_test_new_c =ohe.transform(y_test_c['CGPA_Category'])\n",
        "\n",
        "\n",
        "\n",
        "# X_test_new_c.shape"
      ]
    },
    {
      "cell_type": "code",
      "execution_count": null,
      "id": "43dd5706",
      "metadata": {
        "id": "43dd5706"
      },
      "outputs": [],
      "source": [
        "# y_train_new_c =ohe.transform(y_train_c[['1-0-0-0','0-1-0-0','0-0-1-0','0-0-0-1']])\n",
        "# y_test_new_c =ohe.transform(y_test_c[['1-0-0-0','0-1-0-0','0-0-1-0','0-0-0-1']])"
      ]
    },
    {
      "cell_type": "code",
      "execution_count": null,
      "id": "ba01c9be",
      "metadata": {
        "id": "ba01c9be"
      },
      "outputs": [],
      "source": [
        "# X_train_new_c = ohe.fit_transform(X_train_c[['Do_you_have_Panic_attack?','Did_ou_seek_any_specialist_for_a_treatment?']])\n",
        "# X_test_new_c = ohe.transform(X_test_c[['Do_you_have_Panic_attack?','Did_ou_seek_any_specialist_for_a_treatment?']])"
      ]
    },
    {
      "cell_type": "code",
      "execution_count": null,
      "id": "d53d1f16",
      "metadata": {
        "id": "d53d1f16"
      },
      "outputs": [],
      "source": [
        "# enc = OneHotEncoder(handle_unknown='ignore')\n",
        "# X = [['Male', 1], ['Female', 3], ['Female', 2]]\n",
        "# enc.fit(X)\n",
        "# # enc.transform([['Female', 1], ['Male', 4]]).toarray()\n",
        "# enc.transform([['Female', 1], ['Male', 4]])"
      ]
    },
    {
      "cell_type": "code",
      "execution_count": null,
      "id": "5f7f8292",
      "metadata": {
        "id": "5f7f8292"
      },
      "outputs": [],
      "source": [
        "# X_train_new"
      ]
    },
    {
      "cell_type": "code",
      "execution_count": null,
      "id": "c2477bb0",
      "metadata": {
        "id": "c2477bb0"
      },
      "outputs": [],
      "source": [
        "# X_test_new"
      ]
    },
    {
      "cell_type": "markdown",
      "id": "301c6075",
      "metadata": {
        "id": "301c6075"
      },
      "source": [
        "## Decision Tree"
      ]
    },
    {
      "cell_type": "code",
      "execution_count": null,
      "id": "1df53b99",
      "metadata": {
        "id": "1df53b99"
      },
      "outputs": [],
      "source": [
        "from sklearn import tree\n",
        "from sklearn.tree import DecisionTreeClassifier\n",
        "from sklearn.metrics import accuracy_score\n",
        "from sklearn.metrics import r2_score\n",
        "\n"
      ]
    },
    {
      "cell_type": "code",
      "execution_count": null,
      "id": "111ccd21",
      "metadata": {
        "id": "111ccd21",
        "outputId": "eec302e6-a2e2-4c9b-b295-7cf3e2368635"
      },
      "outputs": [
        {
          "data": {
            "text/plain": [
              "0.2857142857142857"
            ]
          },
          "execution_count": 42,
          "metadata": {},
          "output_type": "execute_result"
        }
      ],
      "source": [
        "\n",
        "clf_c = DecisionTreeClassifier()\n",
        "clf_c.fit(X_train_c, y_train_c)\n",
        "y_pred_c = clf_c.predict(X_test_c)\n",
        "accuracy_score(y_test_c,y_pred_c)\n",
        "# r2_score=r2_score(y_test_c,y_pred_c)\n",
        "# r2_score"
      ]
    },
    {
      "cell_type": "code",
      "execution_count": null,
      "id": "7d0c69ef",
      "metadata": {
        "id": "7d0c69ef",
        "outputId": "9f4759f2-bca8-409d-e2e5-ae6c0844cbd0"
      },
      "outputs": [
        {
          "data": {
            "text/plain": [
              "0.6666666666666666"
            ]
          },
          "execution_count": 43,
          "metadata": {},
          "output_type": "execute_result"
        }
      ],
      "source": [
        "clf_d = DecisionTreeClassifier()\n",
        "clf_d.fit(X_train_d, y_train_d)\n",
        "y_pred_d = clf_d.predict(X_test_d)\n",
        "accuracy_score(y_test_d,y_pred_d)\n",
        "# r2_score=r2_score(y_test_c,y_pred_c)\n",
        "# r2_score"
      ]
    },
    {
      "cell_type": "code",
      "execution_count": null,
      "id": "066075d9",
      "metadata": {
        "id": "066075d9",
        "outputId": "9a96a064-fe70-44b7-dab9-c374308959ed"
      },
      "outputs": [
        {
          "data": {
            "text/html": [
              "<style>#sk-container-id-1 {color: black;background-color: white;}#sk-container-id-1 pre{padding: 0;}#sk-container-id-1 div.sk-toggleable {background-color: white;}#sk-container-id-1 label.sk-toggleable__label {cursor: pointer;display: block;width: 100%;margin-bottom: 0;padding: 0.3em;box-sizing: border-box;text-align: center;}#sk-container-id-1 label.sk-toggleable__label-arrow:before {content: \"▸\";float: left;margin-right: 0.25em;color: #696969;}#sk-container-id-1 label.sk-toggleable__label-arrow:hover:before {color: black;}#sk-container-id-1 div.sk-estimator:hover label.sk-toggleable__label-arrow:before {color: black;}#sk-container-id-1 div.sk-toggleable__content {max-height: 0;max-width: 0;overflow: hidden;text-align: left;background-color: #f0f8ff;}#sk-container-id-1 div.sk-toggleable__content pre {margin: 0.2em;color: black;border-radius: 0.25em;background-color: #f0f8ff;}#sk-container-id-1 input.sk-toggleable__control:checked~div.sk-toggleable__content {max-height: 200px;max-width: 100%;overflow: auto;}#sk-container-id-1 input.sk-toggleable__control:checked~label.sk-toggleable__label-arrow:before {content: \"▾\";}#sk-container-id-1 div.sk-estimator input.sk-toggleable__control:checked~label.sk-toggleable__label {background-color: #d4ebff;}#sk-container-id-1 div.sk-label input.sk-toggleable__control:checked~label.sk-toggleable__label {background-color: #d4ebff;}#sk-container-id-1 input.sk-hidden--visually {border: 0;clip: rect(1px 1px 1px 1px);clip: rect(1px, 1px, 1px, 1px);height: 1px;margin: -1px;overflow: hidden;padding: 0;position: absolute;width: 1px;}#sk-container-id-1 div.sk-estimator {font-family: monospace;background-color: #f0f8ff;border: 1px dotted black;border-radius: 0.25em;box-sizing: border-box;margin-bottom: 0.5em;}#sk-container-id-1 div.sk-estimator:hover {background-color: #d4ebff;}#sk-container-id-1 div.sk-parallel-item::after {content: \"\";width: 100%;border-bottom: 1px solid gray;flex-grow: 1;}#sk-container-id-1 div.sk-label:hover label.sk-toggleable__label {background-color: #d4ebff;}#sk-container-id-1 div.sk-serial::before {content: \"\";position: absolute;border-left: 1px solid gray;box-sizing: border-box;top: 0;bottom: 0;left: 50%;z-index: 0;}#sk-container-id-1 div.sk-serial {display: flex;flex-direction: column;align-items: center;background-color: white;padding-right: 0.2em;padding-left: 0.2em;position: relative;}#sk-container-id-1 div.sk-item {position: relative;z-index: 1;}#sk-container-id-1 div.sk-parallel {display: flex;align-items: stretch;justify-content: center;background-color: white;position: relative;}#sk-container-id-1 div.sk-item::before, #sk-container-id-1 div.sk-parallel-item::before {content: \"\";position: absolute;border-left: 1px solid gray;box-sizing: border-box;top: 0;bottom: 0;left: 50%;z-index: -1;}#sk-container-id-1 div.sk-parallel-item {display: flex;flex-direction: column;z-index: 1;position: relative;background-color: white;}#sk-container-id-1 div.sk-parallel-item:first-child::after {align-self: flex-end;width: 50%;}#sk-container-id-1 div.sk-parallel-item:last-child::after {align-self: flex-start;width: 50%;}#sk-container-id-1 div.sk-parallel-item:only-child::after {width: 0;}#sk-container-id-1 div.sk-dashed-wrapped {border: 1px dashed gray;margin: 0 0.4em 0.5em 0.4em;box-sizing: border-box;padding-bottom: 0.4em;background-color: white;}#sk-container-id-1 div.sk-label label {font-family: monospace;font-weight: bold;display: inline-block;line-height: 1.2em;}#sk-container-id-1 div.sk-label-container {text-align: center;}#sk-container-id-1 div.sk-container {/* jupyter's `normalize.less` sets `[hidden] { display: none; }` but bootstrap.min.css set `[hidden] { display: none !important; }` so we also need the `!important` here to be able to override the default hidden behavior on the sphinx rendered scikit-learn.org. See: https://github.com/scikit-learn/scikit-learn/issues/21755 */display: inline-block !important;position: relative;}#sk-container-id-1 div.sk-text-repr-fallback {display: none;}</style><div id=\"sk-container-id-1\" class=\"sk-top-container\"><div class=\"sk-text-repr-fallback\"><pre>DecisionTreeClassifier()</pre><b>In a Jupyter environment, please rerun this cell to show the HTML representation or trust the notebook. <br />On GitHub, the HTML representation is unable to render, please try loading this page with nbviewer.org.</b></div><div class=\"sk-container\" hidden><div class=\"sk-item\"><div class=\"sk-estimator sk-toggleable\"><input class=\"sk-toggleable__control sk-hidden--visually\" id=\"sk-estimator-id-1\" type=\"checkbox\" checked><label for=\"sk-estimator-id-1\" class=\"sk-toggleable__label sk-toggleable__label-arrow\">DecisionTreeClassifier</label><div class=\"sk-toggleable__content\"><pre>DecisionTreeClassifier()</pre></div></div></div></div></div>"
            ],
            "text/plain": [
              "DecisionTreeClassifier()"
            ]
          },
          "execution_count": 44,
          "metadata": {},
          "output_type": "execute_result"
        }
      ],
      "source": [
        "clf_m = DecisionTreeClassifier()\n",
        "clf_m.fit(X_train_m, y_train_m)\n",
        "# y_pred_m = clf.predict(X_test_m)\n",
        "# accuracy_score(y_test_m,y_pred_m)\n",
        "# r2_score=r2_score(y_test_c,y_pred_c)\n",
        "# r2_score"
      ]
    },
    {
      "cell_type": "code",
      "execution_count": null,
      "id": "830603d9",
      "metadata": {
        "id": "830603d9",
        "outputId": "6b3c6418-039a-43bf-804c-3204f4504856"
      },
      "outputs": [
        {
          "data": {
            "text/plain": [
              "0.7619047619047619"
            ]
          },
          "execution_count": 45,
          "metadata": {},
          "output_type": "execute_result"
        }
      ],
      "source": [
        "y_pred_m = clf_m.predict(X_test_m)\n",
        "accuracy_score(y_test_m,y_pred_m)"
      ]
    },
    {
      "cell_type": "code",
      "execution_count": null,
      "id": "6c3eca79",
      "metadata": {
        "id": "6c3eca79",
        "outputId": "c1f24b20-8cf3-4e27-e407-7de17d1b986d"
      },
      "outputs": [
        {
          "data": {
            "text/plain": [
              "1.0"
            ]
          },
          "execution_count": 46,
          "metadata": {},
          "output_type": "execute_result"
        }
      ],
      "source": [
        "clf_s = DecisionTreeClassifier()\n",
        "clf_s.fit(X_train_s, y_train_s)\n",
        "y_pred_s = clf_s.predict(X_test_s)\n",
        "accuracy_score(y_test_s,y_pred_s)\n",
        "# r2_score=r2_score(y_test_c,y_pred_c)\n",
        "# r2_score"
      ]
    },
    {
      "cell_type": "markdown",
      "id": "c9e24794",
      "metadata": {
        "id": "c9e24794"
      },
      "source": [
        "## Knn"
      ]
    },
    {
      "cell_type": "code",
      "execution_count": null,
      "id": "10441be7",
      "metadata": {
        "id": "10441be7"
      },
      "outputs": [],
      "source": [
        "from sklearn.neighbors import KNeighborsClassifier\n",
        "clf = KNeighborsClassifier()"
      ]
    },
    {
      "cell_type": "code",
      "execution_count": null,
      "id": "4a460067",
      "metadata": {
        "id": "4a460067",
        "outputId": "53d57a53-fa89-4b8e-bf08-125e166bf5a6"
      },
      "outputs": [
        {
          "data": {
            "text/plain": [
              "0.5238095238095238"
            ]
          },
          "execution_count": 48,
          "metadata": {},
          "output_type": "execute_result"
        }
      ],
      "source": [
        "\n",
        "clf.fit(X_train_c, y_train_c)\n",
        "y_pred_c = clf.predict(X_test_c)\n",
        "accuracy_score(y_test_c,y_pred_c)"
      ]
    },
    {
      "cell_type": "code",
      "execution_count": null,
      "id": "e7007cb8",
      "metadata": {
        "id": "e7007cb8",
        "outputId": "3b6e2975-e2a7-4170-b365-6cdcb0941af2"
      },
      "outputs": [
        {
          "data": {
            "text/plain": [
              "0.6666666666666666"
            ]
          },
          "execution_count": 49,
          "metadata": {},
          "output_type": "execute_result"
        }
      ],
      "source": [
        "clf.fit(X_train_d, y_train_d)\n",
        "y_pred_d = clf.predict(X_test_d)\n",
        "accuracy_score(y_test_d,y_pred_d)"
      ]
    },
    {
      "cell_type": "code",
      "execution_count": null,
      "id": "733eb766",
      "metadata": {
        "id": "733eb766",
        "outputId": "b0a5a082-08cf-46d3-807d-0021ec0ed3a7"
      },
      "outputs": [
        {
          "data": {
            "text/plain": [
              "0.7619047619047619"
            ]
          },
          "execution_count": 50,
          "metadata": {},
          "output_type": "execute_result"
        }
      ],
      "source": [
        "clf.fit(X_train_m, y_train_m)\n",
        "y_pred_m = clf.predict(X_test_m)\n",
        "accuracy_score(y_test_m,y_pred_m)"
      ]
    },
    {
      "cell_type": "code",
      "execution_count": null,
      "id": "94df6f0e",
      "metadata": {
        "id": "94df6f0e",
        "outputId": "5824e022-fd46-4fa0-e035-4cf413bfceee"
      },
      "outputs": [
        {
          "data": {
            "text/plain": [
              "1.0"
            ]
          },
          "execution_count": 51,
          "metadata": {},
          "output_type": "execute_result"
        }
      ],
      "source": [
        "clf.fit(X_train_s, y_train_s)\n",
        "y_pred_s = clf_s.predict(X_test_s)\n",
        "accuracy_score(y_test_s,y_pred_s)"
      ]
    },
    {
      "cell_type": "code",
      "execution_count": null,
      "id": "f4d75335",
      "metadata": {
        "id": "f4d75335"
      },
      "outputs": [],
      "source": []
    },
    {
      "cell_type": "markdown",
      "id": "6ccdcc33",
      "metadata": {
        "id": "6ccdcc33"
      },
      "source": [
        "## RandomForest"
      ]
    },
    {
      "cell_type": "code",
      "execution_count": null,
      "id": "264e246f",
      "metadata": {
        "id": "264e246f"
      },
      "outputs": [],
      "source": [
        "from sklearn.ensemble import RandomForestClassifier \n",
        "clf_r = RandomForestClassifier()"
      ]
    },
    {
      "cell_type": "code",
      "execution_count": null,
      "id": "9f0f0afd",
      "metadata": {
        "id": "9f0f0afd",
        "outputId": "cbbe52e8-869b-488f-8366-fc8420c656ce"
      },
      "outputs": [
        {
          "data": {
            "text/plain": [
              "0.2857142857142857"
            ]
          },
          "execution_count": 53,
          "metadata": {},
          "output_type": "execute_result"
        }
      ],
      "source": [
        "clf_r.fit(X_train_c, y_train_c)\n",
        "y_pred_c = clf_r.predict(X_test_c)\n",
        "accuracy_score(y_test_c,y_pred_c)"
      ]
    },
    {
      "cell_type": "code",
      "execution_count": null,
      "id": "b121102f",
      "metadata": {
        "id": "b121102f",
        "outputId": "c6a3232f-8efb-482c-cb81-1179c17b655d"
      },
      "outputs": [
        {
          "data": {
            "text/plain": [
              "0.6666666666666666"
            ]
          },
          "execution_count": 54,
          "metadata": {},
          "output_type": "execute_result"
        }
      ],
      "source": [
        "clf_r.fit(X_train_d, y_train_d)\n",
        "y_pred_d = clf_r.predict(X_test_d)\n",
        "accuracy_score(y_test_d,y_pred_d)"
      ]
    },
    {
      "cell_type": "code",
      "execution_count": null,
      "id": "fb03b230",
      "metadata": {
        "id": "fb03b230",
        "outputId": "5fa95522-dbaf-42f9-dada-f6f2c1156105"
      },
      "outputs": [
        {
          "data": {
            "text/plain": [
              "0.7619047619047619"
            ]
          },
          "execution_count": 55,
          "metadata": {},
          "output_type": "execute_result"
        }
      ],
      "source": [
        "clf_r.fit(X_train_m, y_train_m)\n",
        "y_pred_m = clf_r.predict(X_test_m)\n",
        "accuracy_score(y_test_m,y_pred_m)"
      ]
    },
    {
      "cell_type": "code",
      "execution_count": null,
      "id": "f78ee4a2",
      "metadata": {
        "id": "f78ee4a2",
        "outputId": "dadfaa73-e1e3-4cb6-89e5-1b5d9ff32a2d"
      },
      "outputs": [
        {
          "data": {
            "text/plain": [
              "0.0"
            ]
          },
          "execution_count": 56,
          "metadata": {},
          "output_type": "execute_result"
        }
      ],
      "source": [
        "clf_r.fit(X_train_s, y_train_s)\n",
        "y_pred_s = clf_r.predict(X_test_s)\n",
        "accuracy_score(y_test_s,y_pred_s)"
      ]
    },
    {
      "cell_type": "code",
      "execution_count": null,
      "id": "e4abd2aa",
      "metadata": {
        "id": "e4abd2aa"
      },
      "outputs": [],
      "source": []
    },
    {
      "cell_type": "code",
      "execution_count": null,
      "id": "01b5c066",
      "metadata": {
        "id": "01b5c066"
      },
      "outputs": [],
      "source": []
    },
    {
      "cell_type": "code",
      "execution_count": null,
      "id": "2290fba8",
      "metadata": {
        "id": "2290fba8"
      },
      "outputs": [],
      "source": []
    }
  ],
  "metadata": {
    "kernelspec": {
      "display_name": "Python 3 (ipykernel)",
      "language": "python",
      "name": "python3"
    },
    "language_info": {
      "codemirror_mode": {
        "name": "ipython",
        "version": 3
      },
      "file_extension": ".py",
      "mimetype": "text/x-python",
      "name": "python",
      "nbconvert_exporter": "python",
      "pygments_lexer": "ipython3",
      "version": "3.9.12"
    },
    "colab": {
      "provenance": [],
      "include_colab_link": true
    }
  },
  "nbformat": 4,
  "nbformat_minor": 5
}